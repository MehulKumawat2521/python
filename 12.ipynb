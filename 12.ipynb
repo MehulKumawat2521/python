{
 "cells": [
  {
   "cell_type": "code",
   "execution_count": 5,
   "id": "0d0f1186-7cad-450a-bc57-e4ff43a479ce",
   "metadata": {},
   "outputs": [
    {
     "name": "stdout",
     "output_type": "stream",
     "text": [
      "Name of the student is Rahul and age of the student is 25\n",
      "Batc of Traning is python and duration of traning is 20 hours\n",
      "Everything is ok\n"
     ]
    }
   ],
   "source": [
    "class Stu():\n",
    "    location = 'jaipur'\n",
    "    def __init__(self,name,age):\n",
    "        self.name = name\n",
    "        self.age = age\n",
    "    def getInfo(self):\n",
    "        print(f\"Name of the student is {self.name} and age of the student is {self.age}\")\n",
    "    def statusupdate(self):\n",
    "        print(\"Everything is ok\")\n",
    "\n",
    "class Training(Stu):\n",
    "    def __init__(self, batch, duration):\n",
    "        self.batch =batch\n",
    "        self.duration = duration\n",
    "    def updatedinfo(self):\n",
    "        print(f\"Batc of Traning is {self.batch} and duration of traning is {self.duration} hours\")\n",
    "\n",
    "a = Stu('Rahul', 25)\n",
    "a.getInfo()\n",
    "b = Training('python', 20)\n",
    "b.updatedinfo()\n",
    "b.statusupdate()\n",
    "        "
   ]
  },
  {
   "cell_type": "code",
   "execution_count": 8,
   "id": "7b40c4d7-33ec-4215-bdc2-dba0313ceeb6",
   "metadata": {},
   "outputs": [
    {
     "name": "stdout",
     "output_type": "stream",
     "text": [
      "Engine stared\n",
      "Wheels are roataing \n",
      "Car is driving\n"
     ]
    }
   ],
   "source": [
    "class Engine:\n",
    "    def start_engine(self):\n",
    "        print(\"Engine stared\")\n",
    "class Wheels:\n",
    "    def rotate_wheels(self):\n",
    "        print(\"Wheels are roataing \")\n",
    "class Car(Engine, Wheels):\n",
    "    def drive(self):\n",
    "        print (\"Car is driving\")\n",
    "my_car = Car()\n",
    "my_car.start_engine()\n",
    "my_car.rotate_wheels()\n",
    "my_car.drive()"
   ]
  },
  {
   "cell_type": "code",
   "execution_count": 10,
   "id": "9a004b96-1ea9-4605-bac8-22df54525eae",
   "metadata": {},
   "outputs": [
    {
     "name": "stdout",
     "output_type": "stream",
     "text": [
      "Animal is eating\n",
      "Dog is barking\n",
      "Puppy is weeping\n"
     ]
    }
   ],
   "source": [
    "class Animal:\n",
    "    def eat(self):\n",
    "        print(\"Animal is eating\")\n",
    "class Dog(Animal):\n",
    "    def bark(self):\n",
    "        print(\"Dog is barking\")\n",
    "class Puppy(Dog):\n",
    "    def weep(self):\n",
    "        print(\"Puppy is weeping\")\n",
    "puppy = Puppy()\n",
    "puppy.eat()\n",
    "puppy.bark()\n",
    "puppy.weep()"
   ]
  }
 ],
 "metadata": {
  "kernelspec": {
   "display_name": "Python 3 (ipykernel)",
   "language": "python",
   "name": "python3"
  },
  "language_info": {
   "codemirror_mode": {
    "name": "ipython",
    "version": 3
   },
   "file_extension": ".py",
   "mimetype": "text/x-python",
   "name": "python",
   "nbconvert_exporter": "python",
   "pygments_lexer": "ipython3",
   "version": "3.12.7"
  }
 },
 "nbformat": 4,
 "nbformat_minor": 5
}
