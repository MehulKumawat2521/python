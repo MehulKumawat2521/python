{
 "cells": [
  {
   "cell_type": "code",
   "execution_count": 38,
   "id": "83150f6c-f1dc-4f36-bc1b-d09875cd6161",
   "metadata": {},
   "outputs": [
    {
     "name": "stdout",
     "output_type": "stream",
     "text": [
      "Enter your book name math\n",
      "Enter author name mehul\n",
      "Enter do you want to deposite or withdraw a book withdraw\n"
     ]
    },
    {
     "name": "stdout",
     "output_type": "stream",
     "text": [
      "done\n",
      "None\n"
     ]
    },
    {
     "name": "stdout",
     "output_type": "stream",
     "text": [
      "Enter your book name math\n",
      "Enter author name mehul\n",
      "Enter do you want to deposite or withdraw a book withdraw\n"
     ]
    },
    {
     "name": "stdout",
     "output_type": "stream",
     "text": [
      "withdraw can not be done\n",
      "None\n"
     ]
    }
   ],
   "source": [
    "class book:\n",
    "    def __init__(self,bname,author):\n",
    "        self.bname=bname\n",
    "        self.author=author\n",
    "        \n",
    "    def deposite(self):\n",
    "        global mathm\n",
    "        mathm=1\n",
    "        global mathy\n",
    "        mathy=1\n",
    "        global phyt\n",
    "        phyt=1\n",
    "        global phyk\n",
    "        phyk=1\n",
    "        global scia\n",
    "        scia=1\n",
    "        global scib\n",
    "        scib=1\n",
    "        if(self.author == 'mehul' and self.bname == 'math'):\n",
    "            mathm= 1\n",
    "            print(\"done\")\n",
    "        elif(self.author == 'yash' and self.bname == 'math'):\n",
    "            mathy= 1\n",
    "            print(\"done\")\n",
    "        elif(self.author == 'tushar' and self.bname == 'phy'):\n",
    "            phyt= 1\n",
    "            print(\"done\")\n",
    "        elif(self.author == 'keshav' and self.bname == 'phy' ):\n",
    "            phyk = 1\n",
    "            print(\"done\")\n",
    "        elif(self.author == 'akshay' and self.bname == 'sci'):\n",
    "            scia = 1\n",
    "            print(\"done\")\n",
    "        elif(self.author == 'bharat' and self.bname == 'sci'):\n",
    "            scib = 1\n",
    "            print(\"done\")\n",
    "        else:\n",
    "            print(\"error\")\n",
    "    def withdraw(self):\n",
    "        global mathm\n",
    "        global mathy\n",
    "        global phyt\n",
    "        global phyk\n",
    "        global scia\n",
    "        global scib\n",
    "        if (self.author == 'mehul' and mathm ==1):\n",
    "            mathm = 0\n",
    "            print(\"done\")\n",
    "        elif(self.author == 'yash' and mathy ==1):\n",
    "            mathy = 0\n",
    "            print(\"done\")    \n",
    "        elif(self.author == 'tushar' and phyt ==1):\n",
    "            phyt = 0\n",
    "            print(\"done\") \n",
    "        elif(self.author == 'keshav' and phyk ==1):\n",
    "            phyk = 0\n",
    "            print(\"done\")\n",
    "        elif(self.author == 'akshay' and  scia==1):\n",
    "            scia = 0\n",
    "            print(\"done\")\n",
    "        elif(self.author == 'bharat' and  scib==1):\n",
    "            scib = 0\n",
    "            print(\"done\")    \n",
    "        else:\n",
    "            print(\"withdraw can not be done\")\n",
    "\n",
    "bname= input(\"Enter your book name\")\n",
    "author = input(\"Enter author name\")\n",
    "bk = book(bname,author)\n",
    "g= input(\"Enter do you want to deposite or withdraw a book\")\n",
    "if (g==\"deposite\"):\n",
    "    print(bk.deposite())\n",
    "elif(g==\"withdraw\"):\n",
    "    print(bk.withdraw())\n",
    "else:\n",
    "    print(\"Error\")\n",
    "            "
   ]
  },
  {
   "cell_type": "code",
   "execution_count": 10,
   "id": "7f5a62cd-8596-4711-b971-464f9884a148",
   "metadata": {},
   "outputs": [],
   "source": [
    "class Student:\n",
    "    def __init__(self, name, grade):\n",
    "       self.name = name # Public attribute\n",
    "       self._grade = grade # Private attribute\n",
    "# Getter for grade\n",
    "    def get_grade(self):\n",
    "        return self._grade\n",
    "# Setter for grade (with validation)|\n",
    "    def set_grade(self, new_grade):\n",
    "       if 0 <= new_grade <= 100:\n",
    "         self._grade = new_grade\n",
    "         return \"Grade updated successfully!\"\n",
    "       else:\n",
    "         return \"Invalid grade! Must be between 0 and 100.\"\n",
    "# Using the class\n",
    "student=Student(\"Rohit\", 85)\n",
    "# print(student.name)\n",
    "# print(student.get_grade())\n",
    "# print(student.set_grade(90))"
   ]
  }
 ],
 "metadata": {
  "kernelspec": {
   "display_name": "Python 3 (ipykernel)",
   "language": "python",
   "name": "python3"
  },
  "language_info": {
   "codemirror_mode": {
    "name": "ipython",
    "version": 3
   },
   "file_extension": ".py",
   "mimetype": "text/x-python",
   "name": "python",
   "nbconvert_exporter": "python",
   "pygments_lexer": "ipython3",
   "version": "3.12.7"
  }
 },
 "nbformat": 4,
 "nbformat_minor": 5
}
