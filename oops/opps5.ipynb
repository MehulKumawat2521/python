{
 "cells": [
  {
   "cell_type": "code",
   "execution_count": 13,
   "id": "8f43a597-d9f3-46fb-a50a-6b3f79163e1d",
   "metadata": {},
   "outputs": [
    {
     "name": "stdout",
     "output_type": "stream",
     "text": [
      "Rohit\n",
      "85\n",
      "Grade updated successfully!\n",
      "90\n"
     ]
    }
   ],
   "source": [
    "class Student:\n",
    "    def __init__(self, name, grade):\n",
    "        self.name = name\n",
    "        self.__grade = grade\n",
    "    def get_grade(self):\n",
    "        return self.__grade\n",
    "    def set_grade(self, new_grade):\n",
    "        if 0 <= new_grade <= 100:\n",
    "            self.__grade = new_grade\n",
    "            return \"Grade updated successfully!\"\n",
    "        else:\n",
    "            return \"Invalid\"\n",
    "student = Student(\"Rohit\",85)\n",
    "print(student.name)\n",
    "print(student.get_grade())\n",
    "print(student.set_grade(90))\n",
    "print(student.get_grade())\n"
   ]
  },
  {
   "cell_type": "markdown",
   "id": "8529963a-e1c1-488e-8370-1079782c2aea",
   "metadata": {},
   "source": [
    "# case study 1 : Helthcase System(patient Record Management)"
   ]
  },
  {
   "cell_type": "markdown",
   "id": "34cd8582-13ff-4355-8a74-812ad8f391bd",
   "metadata": {},
   "source": [
    "## Problem: Develop a system for managing patient records in a hospital where:\n",
    "Patient details (name, age, and medical history) should be private.\n",
    "Only authorized methods can retrieve or update medical history.\n",
    "Provide a method to add new medical records while keeping previous data secure."
   ]
  },
  {
   "cell_type": "code",
   "execution_count": 3,
   "id": "0d8fb1a6-4c8a-49be-878d-aa853d169561",
   "metadata": {},
   "outputs": [
    {
     "name": "stdout",
     "output_type": "stream",
     "text": [
      "Medical record added for Rohit\n",
      "Medical record added for Rohit\n",
      "Medical History for Rohit: ['2024: flu Diagnosis', '2024: Blood test Result Normal']\n"
     ]
    }
   ],
   "source": [
    "class Patient:\n",
    "    def __init__(self, name, age):\n",
    "        self.__name = name\n",
    "        self.__age = age\n",
    "        self.__medical_history = []\n",
    "    def add_medical_record(self, record):\n",
    "        self.__medical_history.append(record)\n",
    "        return f\"Medical record added for {self.__name}\"\n",
    "    def get_medical_history(self):\n",
    "        return f\"Medical History for {self.__name}: {self.__medical_history}\"\n",
    "patient = Patient(\"Rohit\",30)\n",
    "print(patient.add_medical_record(\"2024: flu Diagnosis\"))\n",
    "print(patient.add_medical_record(\"2024: Blood test Result Normal\"))\n",
    "print(patient.get_medical_history())\n"
   ]
  },
  {
   "cell_type": "markdown",
   "id": "f6d15ba1-3012-41d5-8dfd-df6daecbc7c6",
   "metadata": {},
   "source": [
    "## Case Study 2: Online Examination System\n",
    "Problem: Create a system for online examinations where:\n",
    "                        \n",
    "Student scores are private and cannot be accessed directly.\n",
    "                        \n",
    "Scores can only be added or retrieved using specific methods.\n",
    "                        \n",
    "Implement a feature to calculate the average score of the student."
   ]
  },
  {
   "cell_type": "code",
   "execution_count": 19,
   "id": "2ed6cf1d-63f1-4086-8879-e50b838f5f54",
   "metadata": {},
   "outputs": [
    {
     "name": "stdout",
     "output_type": "stream",
     "text": [
      "For how many subs. do you want to add marks 4\n",
      "Enter the marks 50\n"
     ]
    },
    {
     "name": "stdout",
     "output_type": "stream",
     "text": [
      "marks are added for mehul\n"
     ]
    },
    {
     "name": "stdout",
     "output_type": "stream",
     "text": [
      "Enter the marks 50\n"
     ]
    },
    {
     "name": "stdout",
     "output_type": "stream",
     "text": [
      "marks are added for mehul\n"
     ]
    },
    {
     "name": "stdout",
     "output_type": "stream",
     "text": [
      "Enter the marks 50\n"
     ]
    },
    {
     "name": "stdout",
     "output_type": "stream",
     "text": [
      "marks are added for mehul\n"
     ]
    },
    {
     "name": "stdout",
     "output_type": "stream",
     "text": [
      "Enter the marks 50\n"
     ]
    },
    {
     "name": "stdout",
     "output_type": "stream",
     "text": [
      "marks are added for mehul\n",
      "marks of mehul: [50, 50, 50, 50]\n",
      "Average marks: 50.0\n"
     ]
    }
   ],
   "source": [
    "class score:\n",
    "    def __init__(self, name):\n",
    "        self.__name = name\n",
    "        self.__marks = []\n",
    "    def added(self, record):\n",
    "        self.__marks.append(record)\n",
    "        return f\"marks are added for {self.__name}\"\n",
    "    def retrieved (self):\n",
    "        return f\"marks of {self.__name}: {self.__marks}\"\n",
    "    def avgg(self):\n",
    "        if len(self.__marks) == 0: \n",
    "           return \"No marks available to calculate average\"\n",
    "        average = sum(self.__marks) / len(self.__marks)\n",
    "        return average\n",
    "stu = score(\"mehul\")\n",
    "a = int(input(\"For how many subs. do you want to add marks\"))\n",
    "for i in range(a):\n",
    "    b = int(input(\"Enter the marks\"))\n",
    "    print(stu.added(b))\n",
    "print(stu.retrieved())\n",
    "print(f\"Average marks: {stu.avgg()}\")"
   ]
  }
 ],
 "metadata": {
  "kernelspec": {
   "display_name": "Python 3 (ipykernel)",
   "language": "python",
   "name": "python3"
  },
  "language_info": {
   "codemirror_mode": {
    "name": "ipython",
    "version": 3
   },
   "file_extension": ".py",
   "mimetype": "text/x-python",
   "name": "python",
   "nbconvert_exporter": "python",
   "pygments_lexer": "ipython3",
   "version": "3.12.7"
  }
 },
 "nbformat": 4,
 "nbformat_minor": 5
}
