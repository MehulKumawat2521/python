{
 "cells": [
  {
   "cell_type": "markdown",
   "id": "7219d5b5-3635-409c-97fa-83b5b154b5a9",
   "metadata": {},
   "source": [
    "## *inharitance in oops \n",
    "- inharitance is a fundamental concept in ooping that allows a class(child class) to inharit\n",
    "attribute and mehods from another class and this promotes code reuseabilty and modularity \n",
    "- key benifits of inharitance =>\n",
    "1 code reuseablity = child class can reuse the code in parent class \n",
    "2 extensiblity = the child class can add or modify funcutinality of the parent class \n",
    "3 harirecal structure = relationship b/w classes are more organized \n",
    "- type of inharitance \n",
    "1 single inharitance = a child class inharits from one parent class\n",
    "2 multiple inharitance = a child class inharits from two or more parent classes\n",
    "3 multilevel inharitance = a child class inharits from a parent class and the parent class inhate from \n",
    "                           another parent class\n"
   ]
  },
  {
   "cell_type": "code",
   "execution_count": 5,
   "id": "0d0f1186-7cad-450a-bc57-e4ff43a479ce",
   "metadata": {},
   "outputs": [
    {
     "name": "stdout",
     "output_type": "stream",
     "text": [
      "Name of the student is Rahul and age of the student is 25\n",
      "Batc of Traning is python and duration of traning is 20 hours\n",
      "Everything is ok\n"
     ]
    }
   ],
   "source": [
    "class Stu():\n",
    "    location = 'jaipur'\n",
    "    def __init__(self,name,age):\n",
    "        self.name = name\n",
    "        self.age = age\n",
    "    def getInfo(self):\n",
    "        print(f\"Name of the student is {self.name} and age of the student is {self.age}\")\n",
    "    def statusupdate(self):\n",
    "        print(\"Everything is ok\")\n",
    "\n",
    "class Training(Stu):\n",
    "    def __init__(self, batch, duration):\n",
    "        self.batch =batch\n",
    "        self.duration = duration\n",
    "    def updatedinfo(self):\n",
    "        print(f\"Batc of Traning is {self.batch} and duration of traning is {self.duration} hours\")\n",
    "\n",
    "a = Stu('Rahul', 25)\n",
    "a.getInfo()\n",
    "b = Training('python', 20)\n",
    "b.updatedinfo()\n",
    "b.statusupdate()\n",
    "        "
   ]
  },
  {
   "cell_type": "code",
   "execution_count": 8,
   "id": "7b40c4d7-33ec-4215-bdc2-dba0313ceeb6",
   "metadata": {},
   "outputs": [
    {
     "name": "stdout",
     "output_type": "stream",
     "text": [
      "Engine stared\n",
      "Wheels are roataing \n",
      "Car is driving\n"
     ]
    }
   ],
   "source": [
    "class Engine:\n",
    "    def start_engine(self):\n",
    "        print(\"Engine stared\")\n",
    "class Wheels:\n",
    "    def rotate_wheels(self):\n",
    "        print(\"Wheels are roataing \")\n",
    "class Car(Engine, Wheels):\n",
    "    def drive(self):\n",
    "        print (\"Car is driving\")\n",
    "my_car = Car()\n",
    "my_car.start_engine()\n",
    "my_car.rotate_wheels()\n",
    "my_car.drive()"
   ]
  },
  {
   "cell_type": "code",
   "execution_count": 10,
   "id": "9a004b96-1ea9-4605-bac8-22df54525eae",
   "metadata": {},
   "outputs": [
    {
     "name": "stdout",
     "output_type": "stream",
     "text": [
      "Animal is eating\n",
      "Dog is barking\n",
      "Puppy is weeping\n"
     ]
    }
   ],
   "source": [
    "class Animal:\n",
    "    def eat(self):\n",
    "        print(\"Animal is eating\")\n",
    "class Dog(Animal):\n",
    "    def bark(self):\n",
    "        print(\"Dog is barking\")\n",
    "class Puppy(Dog):\n",
    "    def weep(self):\n",
    "        print(\"Puppy is weeping\")\n",
    "puppy = Puppy()\n",
    "puppy.eat()\n",
    "puppy.bark()\n",
    "puppy.weep()"
   ]
  }
 ],
 "metadata": {
  "kernelspec": {
   "display_name": "Python 3 (ipykernel)",
   "language": "python",
   "name": "python3"
  },
  "language_info": {
   "codemirror_mode": {
    "name": "ipython",
    "version": 3
   },
   "file_extension": ".py",
   "mimetype": "text/x-python",
   "name": "python",
   "nbconvert_exporter": "python",
   "pygments_lexer": "ipython3",
   "version": "3.12.7"
  }
 },
 "nbformat": 4,
 "nbformat_minor": 5
}
