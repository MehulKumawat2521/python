{
 "cells": [
  {
   "cell_type": "code",
   "execution_count": null,
   "id": "dd9bd41c-770c-4a46-952a-9115eefc7711",
   "metadata": {},
   "outputs": [],
   "source": [
    "class Course:\n",
    "    def __init__(self, course_id, title, difficulty_level, duration):\n",
    "        self.course_id = course_id\n",
    "        self.title = title\n",
    "        self.difficulty_level = difficulty_level\n",
    "        self.duration = duration\n",
    "class Student:\n",
    "    def __init__(self, student_id, name, preferred_topics):\n",
    "        self.student_id = student_id\n",
    "        self.name = name\n",
    "        self.preferred_topics = preferred_topics\n",
    "        self.progress = {}  \n",
    "\n",
    "    def enroll_course(self, course):\n",
    "        if course.course_id not in self.progress:\n",
    "            self.progress[course.course_id] = 0 \n",
    "    \n",
    "    def update_progress(self, course, progress):\n",
    "        if course.course_id in self.progress:\n",
    "            self.progress[course.course_id] = progress\n",
    "        else:\n",
    "            print(f\"Student is not enrolled in {course.title}\")\n",
    "\n",
    "        def get_progress_report(self):\n",
    "        report = f\"Progress report for {self.name} (ID: {self.student_id}):\\n\"\n",
    "        for course_id, progress in self.progress.items():\n",
    "            report += f\"Course ID: {course_id}, Progress: {progress}%\\n\"\n",
    "        return report\n",
    "\n",
    "    def get_certificate(self, course):\n",
    "        if self.progress.get(course.course_id, 0) == 100:\n",
    "            return f\"Certificate: {self.name} has completed the course {course.title}.\"\n",
    "        else:\n",
    "            return f\"{self.name} has not completed the course {course.title}.\"\n",
    "\n"
   ]
  },
  {
   "cell_type": "code",
   "execution_count": 10,
   "id": "eeaef78b-b7a2-4487-80d8-b1b963102f2c",
   "metadata": {},
   "outputs": [
    {
     "name": "stdout",
     "output_type": "stream",
     "text": [
      "Enter your user id 2\n",
      "Enter your name aman\n"
     ]
    },
    {
     "name": "stdout",
     "output_type": "stream",
     "text": [
      "customer name is aman\n"
     ]
    },
    {
     "name": "stdout",
     "output_type": "stream",
     "text": [
      "Enter your preference 1.cloths 2.shoes 3.electronics shoes\n",
      "Enter your budget 60000\n"
     ]
    },
    {
     "name": "stdout",
     "output_type": "stream",
     "text": [
      "customer name is 60000\n",
      "{2: 'aman'}\n",
      "Clothes Products and Prices:\n",
      "{101: 'T-shirt', 102: 'Jeans', 103: 'Jacket'}\n",
      "{'T-shirt': 1599, 'Jeans': 3999, 'Jacket': 5999}\n",
      "\n",
      "Shoes Products and Prices:\n",
      "{201: 'Sneakers', 202: 'Boots', 203: 'Sandals'}\n",
      "{'Sneakers': 4999, 'Boots': 8999, 'Sandals': 1999}\n",
      "\n",
      "Electronics Products and Prices:\n",
      "{301: 'Laptop', 302: 'Smartphone', 303: 'Headphones'}\n",
      "{'Laptop': 79999, 'Smartphone': 49999, 'Headphones': 7999}\n"
     ]
    }
   ],
   "source": [
    "class Customer:\n",
    "    def user_id(self):\n",
    "        user = int(input(\"Enter your user id\"))\n",
    "        self.user = user\n",
    "        namec = input(\"Enter your name\")\n",
    "        self.namec = namec\n",
    "        print(f\"customer name is {self.namec}\")\n",
    "        pre = input(\"Enter your preference 1.cloths 2.shoes 3.electronics\")\n",
    "        self.pre = pre\n",
    "        budgets = int(input(\"Enter your budget\"))\n",
    "        self.budgets = budgets\n",
    "        print(f\"customer name is {self. budgets}\")\n",
    "        self.users  = {}\n",
    "        self.users[self.user] = self.namec\n",
    "        print(self.users)\n",
    "        \n",
    "        \n",
    "class Product:\n",
    "    def __init__(self):\n",
    "        self.clothes_dict = {}\n",
    "        self.shoes_dict = {}\n",
    "        self.electronics_dict = {}\n",
    "        self.clothes_prices = {}\n",
    "        self.shoes_prices = {}\n",
    "        self.electronics_prices = {}\n",
    "    def clothes(self):\n",
    "        self.clothes_dict = {101: \"T-shirt\",102: \"Jeans\",103: \"Jacket\"}\n",
    "        self.clothes_prices = {\"T-shirt\": 1599,\"Jeans\": 3999,\"Jacket\": 5999}\n",
    "        print(\"Clothes Products and Prices:\")\n",
    "        print(self.clothes_dict)\n",
    "        print(self.clothes_prices)\n",
    "    def shoes(self):\n",
    "        self.shoes_dict = {201: \"Sneakers\",202: \"Boots\",203: \"Sandals\"}\n",
    "        self.shoes_prices = {\"Sneakers\": 4999,\"Boots\": 8999,\"Sandals\": 1999}\n",
    "        print(\"\\nShoes Products and Prices:\")\n",
    "        print(self.shoes_dict)\n",
    "        print(self.shoes_prices)\n",
    "\n",
    "    def electronics(self):\n",
    "        self.electronics_dict = {301: \"Laptop\",302: \"Smartphone\",303: \"Headphones\"}\n",
    "        self.electronics_prices = {\"Laptop\": 79999,\"Smartphone\": 49999,\"Headphones\": 7999}\n",
    "        print(\"\\nElectronics Products and Prices:\")\n",
    "        print(self.electronics_dict)\n",
    "        print(self.electronics_prices)\n",
    "\n",
    "class Order(Customer):\n",
    "    def summ(self):\n",
    "        print(f\"coustomer name {self.namec} purchased and the total bill is of Rs\")\n",
    "order = Order()\n",
    "order.user_id()\n",
    "product = Product()\n",
    "\n",
    "product.clothes()\n",
    "product.shoes()\n",
    "product.electronics()"
   ]
  },
  {
   "cell_type": "code",
   "execution_count": 1,
   "id": "069836a0-31f3-4970-8051-1f19ba7845fc",
   "metadata": {},
   "outputs": [
    {
     "name": "stdout",
     "output_type": "stream",
     "text": [
      "Enter your user id:  1\n",
      "Enter your name:  mehul\n",
      "Enter your preference (1. Cloths, 2. Shoes, 3. Electronics):  Cloths\n",
      "Enter your budget:  500\n"
     ]
    },
    {
     "name": "stdout",
     "output_type": "stream",
     "text": [
      "{1: {'Cloths'}}\n"
     ]
    },
    {
     "ename": "TypeError",
     "evalue": "Order.recommend() missing 1 required positional argument: 'self'",
     "output_type": "error",
     "traceback": [
      "\u001b[1;31m---------------------------------------------------------------------------\u001b[0m",
      "\u001b[1;31mTypeError\u001b[0m                                 Traceback (most recent call last)",
      "Cell \u001b[1;32mIn[1], line 51\u001b[0m\n\u001b[0;32m     47\u001b[0m budget \u001b[38;5;241m=\u001b[39m \u001b[38;5;28mint\u001b[39m(\u001b[38;5;28minput\u001b[39m(\u001b[38;5;124m\"\u001b[39m\u001b[38;5;124mEnter your budget: \u001b[39m\u001b[38;5;124m\"\u001b[39m))\n\u001b[0;32m     50\u001b[0m customer \u001b[38;5;241m=\u001b[39m Customer(user_id, name, preference, budget)\n\u001b[1;32m---> 51\u001b[0m Order\u001b[38;5;241m.\u001b[39mrecommend()\n\u001b[0;32m     52\u001b[0m product\u001b[38;5;241m.\u001b[39mclothes()\n\u001b[0;32m     53\u001b[0m product\u001b[38;5;241m.\u001b[39mshoes()\n",
      "\u001b[1;31mTypeError\u001b[0m: Order.recommend() missing 1 required positional argument: 'self'"
     ]
    }
   ],
   "source": [
    "class Customer:\n",
    "    def __init__(self, user, namec, pre, budgets):\n",
    "        self.user = user\n",
    "        self.namec = namec\n",
    "        self.pre = pre\n",
    "        self.budgets = budgets\n",
    "        self.users = {}\n",
    "        self.users[self.user] = {self.pre}\n",
    "        print(self.users)\n",
    "\n",
    "class Product:\n",
    "    def __init__(self):\n",
    "        self.clothes_dict = {}\n",
    "        self.shoes_dict = {}\n",
    "        self.electronics_dict = {}\n",
    "        self.clothes_prices = {}\n",
    "        self.shoes_prices = {}\n",
    "        self.electronics_prices = {}\n",
    "    def clothes(self):\n",
    "        self.clothes_dict = {101: \"T-shirt\",102: \"Jeans\",103: \"Jacket\"}\n",
    "        self.clothes_prices = {\"T-shirt\": 1599,\"Jeans\": 3999,\"Jacket\": 5999}\n",
    "        print(\"Clothes Products and Prices:\")\n",
    "        print(self.clothes_dict)\n",
    "        print(self.clothes_prices)\n",
    "    def shoes(self):\n",
    "        self.shoes_dict = {201: \"Sneakers\",202: \"Boots\",203: \"Sandals\"}\n",
    "        self.shoes_prices = {\"Sneakers\": 4999,\"Boots\": 8999,\"Sandals\": 1999}\n",
    "        print(\"\\nShoes Products and Prices:\")\n",
    "        print(self.shoes_dict)\n",
    "        print(self.shoes_prices)\n",
    "\n",
    "    def electronics(self):\n",
    "        self.electronics_dict = {301: \"Laptop\",302: \"Smartphone\",303: \"Headphones\"}\n",
    "        self.electronics_prices = {\"Laptop\": 79999,\"Smartphone\": 49999,\"Headphones\": 7999}\n",
    "        print(\"\\nElectronics Products and Prices:\")\n",
    "        print(self.electronics_dict)\n",
    "        print(self.electronics_prices)\n",
    "\n",
    "class Order(Customer,Product):\n",
    "    def recommend(self):\n",
    "        self.a = self.users[self.user]\n",
    "        print(a)\n",
    "\n",
    "user_id = int(input(\"Enter your user id: \"))\n",
    "name = input(\"Enter your name: \")\n",
    "preference = input(\"Enter your preference (1. Cloths, 2. Shoes, 3. Electronics): \")\n",
    "budget = int(input(\"Enter your budget: \"))\n",
    "\n",
    "\n",
    "customer = Customer(user_id, name, preference, budget)\n",
    "Order.recommend()\n",
    "product.clothes()\n",
    "product.shoes()\n",
    "product.electronics()\n"
   ]
  }
 ],
 "metadata": {
  "kernelspec": {
   "display_name": "Python 3 (ipykernel)",
   "language": "python",
   "name": "python3"
  },
  "language_info": {
   "codemirror_mode": {
    "name": "ipython",
    "version": 3
   },
   "file_extension": ".py",
   "mimetype": "text/x-python",
   "name": "python",
   "nbconvert_exporter": "python",
   "pygments_lexer": "ipython3",
   "version": "3.12.7"
  }
 },
 "nbformat": 4,
 "nbformat_minor": 5
}
