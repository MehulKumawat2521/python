{
 "cells": [
  {
   "cell_type": "markdown",
   "id": "539100db-f45c-4043-aa63-6deee302144f",
   "metadata": {},
   "source": [
    "### decorator in python\n",
    "\n",
    "decorater are a way to modify or enhance the bhavir of function without directly changing there code\n",
    "\n",
    "in oops decoratos are commonly use to extend the functionality of a class method , function or even a \n",
    "\n",
    "entair in aclean reuseable way "
   ]
  },
  {
   "cell_type": "code",
   "execution_count": 23,
   "id": "edebd57a-4070-473d-8646-fed53a483ded",
   "metadata": {},
   "outputs": [
    {
     "ename": "SyntaxError",
     "evalue": "'return' outside function (2993135609.py, line 7)",
     "output_type": "error",
     "traceback": [
      "\u001b[1;36m  Cell \u001b[1;32mIn[23], line 7\u001b[1;36m\u001b[0m\n\u001b[1;33m    return wrapper\u001b[0m\n\u001b[1;37m    ^\u001b[0m\n\u001b[1;31mSyntaxError\u001b[0m\u001b[1;31m:\u001b[0m 'return' outside function\n"
     ]
    }
   ],
   "source": [
    "class log_decorator(func):\n",
    "    def wrapper(*args, **kwrags):\n",
    "        print(f\"Function '{fuction.__name__}' is called\")\n",
    "        result = func(*args, **kwargs)\n",
    "        print(f\"Function '{func.__name__}' finished execution\")\n",
    "        return result\n",
    "    return wrapper\n",
    "@log_decorator\n",
    "def greet(name):\n",
    "    print(f\"Hello, {name}!\")\n",
    "\n",
    "greet(\"mehul\")"
   ]
  },
  {
   "cell_type": "code",
   "execution_count": 2,
   "id": "a4ced8da-3180-4237-ab4f-4dca0501b047",
   "metadata": {},
   "outputs": [
    {
     "name": "stdout",
     "output_type": "stream",
     "text": [
      "The factorial of 5 is 120\n"
     ]
    }
   ],
   "source": [
    "class factorialCalculator:\n",
    "    def __init__(self):\n",
    "        pass\n",
    "    def calculate_factorial(self, n):\n",
    "        if n == 0 or n == 1:\n",
    "            return 1\n",
    "        else:\n",
    "            return n * self.calculate_factorial(n-1)\n",
    "\n",
    "calculator = factorialCalculator()\n",
    "number = 5\n",
    "result = calculator.calculate_factorial(number)\n",
    "print(f\"The factorial of {number} is {result}\")"
   ]
  },
  {
   "cell_type": "code",
   "execution_count": 3,
   "id": "f930f845-15d9-4426-b4a2-af97bc8367a8",
   "metadata": {},
   "outputs": [
    {
     "name": "stdout",
     "output_type": "stream",
     "text": [
      "1\n",
      "2\n",
      "3\n",
      "4\n",
      "5\n"
     ]
    }
   ],
   "source": [
    "def number_genrator():\n",
    "    for i in range(1,6):\n",
    "        yield i\n",
    "        \n",
    "gen = number_genrator()\n",
    "for num in gen:\n",
    "    print(num)"
   ]
  },
  {
   "cell_type": "code",
   "execution_count": 7,
   "id": "3236aded-707b-4b72-b69c-7305da086b86",
   "metadata": {},
   "outputs": [
    {
     "name": "stdout",
     "output_type": "stream",
     "text": [
      "1\n",
      "4\n",
      "9\n",
      "16\n",
      "25\n"
     ]
    }
   ],
   "source": [
    "def square_genrator(n):\n",
    "    for i in range(1,n + 1):\n",
    "        yield i * i\n",
    "        \n",
    "square = square_genrator(5)\n",
    "for squares in square:\n",
    "    print(squares)"
   ]
  }
 ],
 "metadata": {
  "kernelspec": {
   "display_name": "Python 3 (ipykernel)",
   "language": "python",
   "name": "python3"
  },
  "language_info": {
   "codemirror_mode": {
    "name": "ipython",
    "version": 3
   },
   "file_extension": ".py",
   "mimetype": "text/x-python",
   "name": "python",
   "nbconvert_exporter": "python",
   "pygments_lexer": "ipython3",
   "version": "3.12.7"
  }
 },
 "nbformat": 4,
 "nbformat_minor": 5
}
