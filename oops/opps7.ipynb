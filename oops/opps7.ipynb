{
 "cells": [
  {
   "cell_type": "code",
   "execution_count": 25,
   "id": "d15db084-8a80-46cb-9912-5f45b25854de",
   "metadata": {},
   "outputs": [
    {
     "name": "stdout",
     "output_type": "stream",
     "text": [
      "Enter your name mehul\n"
     ]
    },
    {
     "name": "stdout",
     "output_type": "stream",
     "text": [
      "customer name is mehul\n"
     ]
    },
    {
     "name": "stdout",
     "output_type": "stream",
     "text": [
      "Enter your contact no. 34\n"
     ]
    },
    {
     "name": "stdout",
     "output_type": "stream",
     "text": [
      "customer name is 34\n"
     ]
    },
    {
     "name": "stdout",
     "output_type": "stream",
     "text": [
      "Enter your product name m\n"
     ]
    },
    {
     "name": "stdout",
     "output_type": "stream",
     "text": [
      "Product name is m\n"
     ]
    },
    {
     "name": "stdout",
     "output_type": "stream",
     "text": [
      "Enter your product price 50\n"
     ]
    },
    {
     "name": "stdout",
     "output_type": "stream",
     "text": [
      "Product price is 50\n"
     ]
    },
    {
     "name": "stdout",
     "output_type": "stream",
     "text": [
      "Enter how much product did you purchased  2\n"
     ]
    },
    {
     "name": "stdout",
     "output_type": "stream",
     "text": [
      "total bill is 100\n",
      "coustomer name mehul purchased m and the total bill is of Rs 100\n"
     ]
    }
   ],
   "source": [
    "class Customer:\n",
    "    def name(self):\n",
    "        namec = input(\"Enter your name\")\n",
    "        self.namec = namec\n",
    "        print(f\"customer name is {self.namec}\")\n",
    "    def contact(self):\n",
    "        contactc = int(input(\"Enter your contact no.\"))\n",
    "        self.contactc = contactc\n",
    "        print(f\"customer name is {self.contactc}\")\n",
    "        \n",
    "class Product():\n",
    "    def pname(self):\n",
    "        pnamep = input(\"Enter your product name\")\n",
    "        self.pnamep = pnamep\n",
    "        print(f\"Product name is {self.pnamep}\")\n",
    "    def price(self):\n",
    "        pricep = int(input(\"Enter your product price\"))\n",
    "        self.pricep = pricep\n",
    "        print(f\"Product price is {self.pricep}\")\n",
    "        total = int(input(\"Enter how much product did you purchased \"))\n",
    "        self.total = total\n",
    "        \n",
    "        total_bill =  self.pricep * self.total\n",
    "        self.total_bill = total_bill\n",
    "        print(f\"total bill is {self.total_bill}\")\n",
    "    \n",
    "class Order(Customer, Product):\n",
    "    def summ(self):\n",
    "        print(f\"coustomer name {self.namec} purchased {self.pnamep} and the total bill is of Rs {self.total_bill}\")\n",
    "order = Order()\n",
    "order.name()\n",
    "order.contact()\n",
    "order.pname()\n",
    "order.price()\n",
    "order.summ()"
   ]
  },
  {
   "cell_type": "markdown",
   "id": "faa05b9b-2b61-4122-9fe8-145dc5f9388f",
   "metadata": {},
   "source": [
    "# *class method\n",
    "a class mehtod is a method that oprate on the class itself rather than the instance of a class\n",
    "it is defined using the @ class method, decorateror and cls as its first perameter\n",
    "- feature of class methods\n",
    "1 operates on the class rather than instance spefic data \n",
    "2 we can modify the class state using cls\n",
    "3 we can be called on both the class and its objects \n"
   ]
  },
  {
   "cell_type": "code",
   "execution_count": 4,
   "id": "38164ae3-5fab-44dc-998c-832f91f26aa9",
   "metadata": {},
   "outputs": [
    {
     "name": "stdout",
     "output_type": "stream",
     "text": [
      "Tech Solutions\n",
      "Future Tech\n"
     ]
    }
   ],
   "source": [
    "class Employee:\n",
    "    company_name = \"Tech Solutions\"\n",
    "    def __init__(self,name,salary):\n",
    "        self.name = name\n",
    "        self.salary = salary\n",
    "    @classmethod\n",
    "    def change_company_name(cls, new_name):\n",
    "        cls.company_name = new_name\n",
    "emp1 = Employee(\"Sam\", 500000)\n",
    "emp2 = Employee(\"Rahul\", 700000)\n",
    "print(Employee.company_name)\n",
    "Employee.change_company_name(\"Future Tech\")\n",
    "print(Employee.company_name)"
   ]
  },
  {
   "cell_type": "markdown",
   "id": "1657bff8-39c1-4815-817f-2d2fcaa95daa",
   "metadata": {},
   "source": [
    "### *static mehton\n",
    "\n",
    "static mehotd id a method that does not oprate on either the class or instance\n",
    "\n",
    "it behves like a regural function but is defined inside a class for logical grouping\n",
    "\n",
    "1 it is marked with the @ static method decorator features of static methods it does not required self or cls as perameter \n",
    "\n",
    "2 we can not modify class or instance attributes \n"
   ]
  },
  {
   "cell_type": "code",
   "execution_count": 5,
   "id": "63927f6f-a086-4576-b3fc-33ac69d4a31e",
   "metadata": {},
   "outputs": [
    {
     "name": "stdout",
     "output_type": "stream",
     "text": [
      "8\n",
      "6\n"
     ]
    }
   ],
   "source": [
    "class MathOperations:\n",
    "    @staticmethod\n",
    "    def add(a, b):\n",
    "        return a+b\n",
    "    @staticmethod\n",
    "    def subtract(a, b):\n",
    "        return a - b\n",
    "\n",
    "print(MathOperations.add(5, 3))\n",
    "print(MathOperations.subtract(10, 4)) "
   ]
  }
 ],
 "metadata": {
  "kernelspec": {
   "display_name": "Python 3 (ipykernel)",
   "language": "python",
   "name": "python3"
  },
  "language_info": {
   "codemirror_mode": {
    "name": "ipython",
    "version": 3
   },
   "file_extension": ".py",
   "mimetype": "text/x-python",
   "name": "python",
   "nbconvert_exporter": "python",
   "pygments_lexer": "ipython3",
   "version": "3.12.7"
  }
 },
 "nbformat": 4,
 "nbformat_minor": 5
}
