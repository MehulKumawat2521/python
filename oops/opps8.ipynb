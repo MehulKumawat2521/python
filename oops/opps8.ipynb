{
 "cells": [
  {
   "cell_type": "markdown",
   "id": "54af585f-55a8-4eca-a446-ce785c2ee403",
   "metadata": {},
   "source": [
    "### *super method\n",
    "is used to call a method from the parent class in the context of inharitance\n",
    "it allows us to avoid explacity reffing to the parent class and makes the code more maintable\n",
    "- features of super methods\n",
    "1 it accesses parent class method or attributes \n",
    "2 it is useful in multilevel or multiple inharitance "
   ]
  },
  {
   "cell_type": "code",
   "execution_count": 8,
   "id": "f388b3ba-a8fc-4fce-8047-a8b7193994b8",
   "metadata": {},
   "outputs": [
    {
     "name": "stdout",
     "output_type": "stream",
     "text": [
      "Hello, I am sam from the parent class \n",
      "I am 10 years old from the child class\n"
     ]
    }
   ],
   "source": [
    "class Parent:\n",
    "    def __init__(self,name):\n",
    "        self.name =name\n",
    "    def greet(self):\n",
    "        print(f\"Hello, I am {self.name} from the parent class \")\n",
    "class Child(Parent):\n",
    "    def __init__(self,name,age):\n",
    "        super().__init__(name)\n",
    "        self.age =age\n",
    "    def greet(self):\n",
    "        super().greet()\n",
    "        print(f\"I am {self.age} years old from the child class\")\n",
    "\n",
    "child = Child(\"sam\", 10)\n",
    "child.greet()"
   ]
  },
  {
   "cell_type": "markdown",
   "id": "e29c865d-2040-4eb8-ba53-60e5b1075e8a",
   "metadata": {},
   "source": [
    "# * abstarion class\n",
    "abstration is a concept in ooping that hides unnessary details from the user  \n",
    "\n",
    "and only showes the essintial feature of an object\n",
    "\n",
    "it allows us to focus on what an objet does rathar than how it does it\n",
    "\n",
    "-- Q how abstration works in python \n",
    "\n",
    "ans \n",
    "\n",
    "1 abstract base classes => these are the classes that surve as a blue print for other classes and we\n",
    "\n",
    "cannot create objects directly from an abstract class \n",
    "\n",
    "2 @ abstract method => a decorator that defines methos inthe abstract class but ndoesnot provide \n",
    "\n",
    "there implimentation to use abstraction python abc modules tipacly used \n"
   ]
  },
  {
   "cell_type": "code",
   "execution_count": 9,
   "id": "5929933e-ca5f-409f-9e5e-80b3070b8ba9",
   "metadata": {},
   "outputs": [
    {
     "ename": "IndentationError",
     "evalue": "expected an indented block after function definition on line 13 (2485736484.py, line 14)",
     "output_type": "error",
     "traceback": [
      "\u001b[1;36m  Cell \u001b[1;32mIn[9], line 14\u001b[1;36m\u001b[0m\n\u001b[1;33m    return f\"PayPal payment of ${amount} processed.\"\u001b[0m\n\u001b[1;37m    ^\u001b[0m\n\u001b[1;31mIndentationError\u001b[0m\u001b[1;31m:\u001b[0m expected an indented block after function definition on line 13\n"
     ]
    }
   ],
   "source": [
    "from abc import ABC, abstractmethod\n",
    "# Abstract class\n",
    "class Payment (ABC):\n",
    "    @abstractmethod\n",
    "    def make_payment(self, amount):\n",
    "      pass\n",
    "# Concrete class for Credit Card Payment\n",
    "class CreditCardPayment (Payment):\n",
    "    def make_payment (self, amount):\n",
    "      return f\"Credit Card payment of ${amount} processed.\"\n",
    "# Concrete class for PayPal Payment\n",
    "class PayPalPayment (Payment):\n",
    "    def make_payment (self, amount):\n",
    "    return f\"PayPal payment of ${amount} processed.\"\n",
    "\n",
    "# Concrete class for Credit Card Payment\n",
    "class CreditCardPayment (Payment):\n",
    "    def make_payment (self, amount):\n",
    "      return f\"Credit Card payment of ${amount} processed.\"\n",
    "# Concrete class for PayPal Payment\n",
    "class PayPalPayment (Payment):\n",
    "    def make_payment (self, amount):\n",
    "      return f\"PayPal payment of ${amount} processed.\"\n",
    "|\n",
    "# Using the classes\n",
    "payment1 = CreditCardPayment()\n",
    "print(payment1.make_payment (100)) # Output: Credit Card payment of $100 processed.\n",
    "payment2 = PayPal Payment()\n",
    "print(payment2.make_payment (200)) # Output: PayPal payment of $200 processed.\n",
    "    "
   ]
  },
  {
   "cell_type": "markdown",
   "id": "ce9d7e76-45a5-45e2-9fec-86d03e98fa41",
   "metadata": {},
   "source": [
    "# Polymrfism allows object of diff. classes to be treated as objects of a common super class\n",
    "\n",
    "it enables a single interface to represent diffrent underline forms or data types this makes the code more \n",
    "\n",
    "flixible , reusable and easy to understand\n",
    "\n",
    "-key benifits of polymorfism\n",
    "\n"
   ]
  },
  {
   "cell_type": "code",
   "execution_count": 11,
   "id": "1eb08659-4185-43e3-a561-f899680fd605",
   "metadata": {},
   "outputs": [
    {
     "name": "stdout",
     "output_type": "stream",
     "text": [
      "woof!\n",
      "Meow!\n",
      "moo!\n"
     ]
    }
   ],
   "source": [
    "class Animal:\n",
    "    def speak(self):\n",
    "        pass\n",
    "class Dog(Animal):\n",
    "    def speak(self):\n",
    "        return \"woof!\"\n",
    "class Cat(Animal):\n",
    "    def speak(self):\n",
    "        return \"Meow!\"\n",
    "class Cow(Animal):\n",
    "    def speak(self):\n",
    "        return \"moo!\"\n",
    "def make_animal_speak(anmial):\n",
    "    print(animal.speak())\n",
    "\n",
    "animals = [Dog(), Cat(), Cow()]\n",
    "\n",
    "for animal in animals:\n",
    "    make_animal_speak(animal)"
   ]
  },
  {
   "cell_type": "code",
   "execution_count": 15,
   "id": "f5129461-1d0f-46a2-83ad-e1d8e2d8aead",
   "metadata": {},
   "outputs": [],
   "source": [
    "def greet(name ='Guest'):\n",
    "    print(f\"Hello,{name}!\")\n",
    "    greet()\n",
    "#    greet(\"raj\")"
   ]
  }
 ],
 "metadata": {
  "kernelspec": {
   "display_name": "Python 3 (ipykernel)",
   "language": "python",
   "name": "python3"
  },
  "language_info": {
   "codemirror_mode": {
    "name": "ipython",
    "version": 3
   },
   "file_extension": ".py",
   "mimetype": "text/x-python",
   "name": "python",
   "nbconvert_exporter": "python",
   "pygments_lexer": "ipython3",
   "version": "3.12.7"
  }
 },
 "nbformat": 4,
 "nbformat_minor": 5
}
