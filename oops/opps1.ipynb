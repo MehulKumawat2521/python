{
 "cells": [
  {
   "cell_type": "code",
   "execution_count": 22,
   "id": "d0e13ffe-57fd-4a86-ab06-90973b79b614",
   "metadata": {},
   "outputs": [],
   "source": [
    "class math:\n",
    "\n",
    "  def __init__(self, num1,num2):\n",
    "    self.num1 = num1\n",
    "    self.num2 = num2 \n",
    "\n",
    "  def my_add(self):\n",
    "    print(\"Total Add is =\", self.num1+self.num2)\n",
    "\n",
    "  def my_sub(self):\n",
    "    print(\"Total difference is =\", self.num1-self.num2)\n",
    "\n"
   ]
  },
  {
   "cell_type": "code",
   "execution_count": 23,
   "id": "5842672d-3cc9-4a34-8f63-3ec3107806eb",
   "metadata": {},
   "outputs": [
    {
     "name": "stdout",
     "output_type": "stream",
     "text": [
      "Total Add is = 5\n",
      "Total difference is = -1\n"
     ]
    }
   ],
   "source": [
    "a=math(2,3)\n",
    "a.my_add()\n",
    "a.my_sub()"
   ]
  },
  {
   "cell_type": "code",
   "execution_count": null,
   "id": "3a0db5b2-580e-40e4-b65d-66d9b4d54fc5",
   "metadata": {},
   "outputs": [],
   "source": [
    "Q1 why we use opps\n",
    "ans\n",
    "1.reuseablity- code can be reused through inharitance and classes reducing redendancing\n",
    "2.modularity- programs are diveided into object making them easier to understand and maintain.\n",
    "3.data protection - ancapsulation hepls restrict assecc to sirtain parts of objects\n",
    "4.flexablity- polymorfism allowes the same interface to interreact with diffrent types of object.\n",
    "\n",
    "*key points\n",
    "1class= a class is a blue print for creating object it defines a structure to hold data(attributes) and functions(methods) related to that object\n",
    "2object= an object is an instance of a class it repesents a secific entity created using the class blue print\n",
    "3self key word= self is a refrence to the current instance of the class it allows us to excess the objects,attribte and method .it must be the first perameret inm  incstance method. when ve calling a mehod self is passed automaticlay\n",
    "Q what does self in opps\n",
    "ans\n",
    "1 it bindes the methods and attribute to the specif objects\n",
    "2 without self python would not know which objects attributes or method to reffer to .it allows us to maintain seprate datafor each object created from the class.\n"
   ]
  },
  {
   "cell_type": "code",
   "execution_count": 21,
   "id": "bc60d58e-8daf-40a2-a456-c58cbe2da336",
   "metadata": {},
   "outputs": [
    {
     "name": "stdout",
     "output_type": "stream",
     "text": [
      "Buddy say Woof!\n",
      "Golden Retieverthis is breed\n",
      "max say Woof!\n",
      "Labradorthis is breed\n"
     ]
    }
   ],
   "source": [
    "class dog:\n",
    "    def __init__(self,name,breed):\n",
    "        self.name = name\n",
    "        self.breed = breed\n",
    "    def bark(self):\n",
    "        print(f\"{self.name} say Woof!\")\n",
    "        print(f\"{self.breed}this is breed\")\n",
    "dog1 = dog(\"Buddy\", \"Golden Retiever\")\n",
    "dog2 = dog(\"max\",\"Labrador\")\n",
    "\n",
    "dog1.bark()\n",
    "dog2.bark()"
   ]
  },
  {
   "cell_type": "code",
   "execution_count": null,
   "id": "425dd839-7904-48f6-b5a1-67bae859c468",
   "metadata": {},
   "outputs": [],
   "source": [
    "4 attributes = attribues are variables that hole data about an object they are define \n",
    "               inside a class and reperesent the propities and state of an object.\n",
    "5 methods = mehtods are functions that define inside a class that operate on the object \n",
    "            attributes and they define the behavers of an object \n",
    "            "
   ]
  },
  {
   "cell_type": "code",
   "execution_count": 6,
   "id": "52a4e4f7-cece-439a-9f27-924bb84a80c8",
   "metadata": {},
   "outputs": [
    {
     "name": "stdout",
     "output_type": "stream",
     "text": [
      "12\n",
      "8\n",
      "20\n",
      "5\n"
     ]
    }
   ],
   "source": [
    "\n",
    "class calculator:\n",
    "    def __init__(self,num1,num2):\n",
    "       self.num1=num1\n",
    "       self.num2=num2\n",
    "    def add(self):\n",
    "        return self.num1+self.num2\n",
    "    def sub(self):\n",
    "        return self.num1-self.num2\n",
    "    def mul(self):\n",
    "        return self.num1*self.num2\n",
    "    def div(self):\n",
    "        if(self.num2 !=0):\n",
    "           return self.num1//self.num2\n",
    "        else:\n",
    "            return \"can not divide by zero\"\n",
    "calc = calculator(10,2)\n",
    "print(calc.add())\n",
    "print(calc.sub())\n",
    "print(calc.mul())\n",
    "print(calc.div())\n",
    "    "
   ]
  }
 ],
 "metadata": {
  "kernelspec": {
   "display_name": "Python 3 (ipykernel)",
   "language": "python",
   "name": "python3"
  },
  "language_info": {
   "codemirror_mode": {
    "name": "ipython",
    "version": 3
   },
   "file_extension": ".py",
   "mimetype": "text/x-python",
   "name": "python",
   "nbconvert_exporter": "python",
   "pygments_lexer": "ipython3",
   "version": "3.12.7"
  }
 },
 "nbformat": 4,
 "nbformat_minor": 5
}
