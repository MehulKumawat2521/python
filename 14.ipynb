{
 "cells": [
  {
   "cell_type": "code",
   "execution_count": 4,
   "id": "7737a1f8-666b-4102-84fb-51bc7dc10041",
   "metadata": {},
   "outputs": [
    {
     "name": "stdout",
     "output_type": "stream",
     "text": [
      "-1 -1 2\n",
      "-1 0 1\n"
     ]
    }
   ],
   "source": [
    "num= [-1,0,1,2,-1,-4]\n",
    "num.sort()\n",
    "\n",
    "for i in range(0, len(num)-2):\n",
    "    start=i+1\n",
    "    end=len(num)-1\n",
    "    while(start<end):\n",
    "        if(num[i] + num[start] + num[end]==0):\n",
    "            print(num[i], num[start], num[end])\n",
    "            end= -1\n",
    "        elif(num[i] + num[start] + num[end]>0):\n",
    "            end-=1\n",
    "        else:\n",
    "            start+=1"
   ]
  },
  {
   "cell_type": "code",
   "execution_count": 5,
   "id": "ba31e414-1978-4783-9038-01dc3878fdbd",
   "metadata": {},
   "outputs": [],
   "source": [
    "mydic = {10: \"isha\", \"rollno\": [99,100]}"
   ]
  },
  {
   "cell_type": "code",
   "execution_count": 7,
   "id": "aadedf3a-c47e-46c7-8b20-c82946d4e090",
   "metadata": {},
   "outputs": [
    {
     "name": "stdout",
     "output_type": "stream",
     "text": [
      "{10: 'isha', 'rollno': 99} first (12, 'two')\n"
     ]
    }
   ],
   "source": [
    "mydic[11] = \"first\"\n",
    "mydic[12] = \"two\"\n",
    "x = mydic.pop(11)\n",
    "mydic[\"rollno\"] = 99\n",
    "y = mydic.popitem()\n",
    "print(mydic, x, y)"
   ]
  },
  {
   "cell_type": "code",
   "execution_count": 10,
   "id": "4da10509-8e33-4614-bb1f-e32821c26b23",
   "metadata": {},
   "outputs": [
    {
     "data": {
      "text/plain": [
       "{10: 'isha', 20: 'mehul'}"
      ]
     },
     "execution_count": 10,
     "metadata": {},
     "output_type": "execute_result"
    }
   ],
   "source": [
    "data = [(10, \"isha\"), (20, \"mehul\")]\n",
    "dict(data)"
   ]
  },
  {
   "cell_type": "code",
   "execution_count": 15,
   "id": "6fb4a5a7-a032-401e-a2d5-d71f1658b281",
   "metadata": {},
   "outputs": [
    {
     "name": "stdout",
     "output_type": "stream",
     "text": [
      "[57, 43, 36, 24, 23, 16, 7]\n"
     ]
    },
    {
     "name": "stdin",
     "output_type": "stream",
     "text": [
      "Enter the value 1\n"
     ]
    },
    {
     "name": "stdout",
     "output_type": "stream",
     "text": [
      "57\n"
     ]
    }
   ],
   "source": [
    "list= [7, 16 , 24 ,36, 57, 23 ,43 , 7 , 16 ]\n",
    "list1 = []\n",
    "for s in list:\n",
    "    if s  not in list1:\n",
    "        list1.append(s)\n",
    "\n",
    "for i in range(len(list1)):\n",
    "    for j in range(i+1, len(list1)):\n",
    "        if list1[j] > list1 [i]:\n",
    "            list1[i], list1[j] = list1[j], list1[i]\n",
    "print(list1)\n",
    "\n",
    "a = int(input(\"Enter the value\"))\n",
    "print(list1[a-1])\n"
   ]
  },
  {
   "cell_type": "code",
   "execution_count": 3,
   "id": "00f7c679-a5bd-41ec-aa8d-cc2c70f929ff",
   "metadata": {},
   "outputs": [
    {
     "name": "stdout",
     "output_type": "stream",
     "text": [
      "[7, 16, 24, 36, 57, 23, 43]\n",
      "[57, 43, 36, 24, 23, 16, 7]\n"
     ]
    },
    {
     "name": "stdin",
     "output_type": "stream",
     "text": [
      "Enter the value 3\n"
     ]
    },
    {
     "name": "stdout",
     "output_type": "stream",
     "text": [
      "36\n"
     ]
    }
   ],
   "source": [
    "list= [7, 16 , 24 ,36, 57, 23 ,43 , 7 , 16 ]\n",
    "list1 = []\n",
    "for s in list:\n",
    "    if s  not in list1:\n",
    "        list1.append(s)\n",
    "print (list1)\n",
    "i =0\n",
    "while  i < (len(list1)-1):\n",
    "    \n",
    "        if list1[i+1] > list1 [i]:\n",
    "            list1[i], list1[i+1] = list1[i+1], list1[i]\n",
    "            i = 0\n",
    "        else:\n",
    "            i = i+1\n",
    "print(list1)\n",
    "\n",
    "a = int(input(\"Enter the value\"))\n",
    "print(list1[a-1])"
   ]
  },
  {
   "cell_type": "code",
   "execution_count": null,
   "id": "0ad87618-9556-4467-b17f-be1c1ce2df76",
   "metadata": {},
   "outputs": [],
   "source": [
    "num = 3547\n",
    "num_map = {\n",
    "            1: \"I\",\n",
    "            5: \"V\",    4: \"IV\",\n",
    "            10: \"X\",   9: \"IX\",\n",
    "            50: \"L\",   40: \"XL\",\n",
    "            100: \"C\",  90: \"XC\",\n",
    "            500: \"D\",  400: \"CD\",\n",
    "            1000: \"M\", 900: \"CM\",\n",
    "        }\n",
    "\n"
   ]
  },
  {
   "cell_type": "code",
   "execution_count": 11,
   "id": "b56d09c9-971f-4564-b36d-bf5965502695",
   "metadata": {},
   "outputs": [],
   "source": [
    "# functions = collection of statement or block of code \n",
    "# write logice = use it multiple time\n",
    "# code reuseability\n",
    "#def func():\n",
    "#    logic\n",
    "\n",
    "y=11# global( if change is made out of the function then it will remain change)\n",
    "c = 13\n",
    "def func():\n",
    "    x = 10 # local\n",
    "    print(\"Mehul\", x)\n",
    "    y =500 # if changes are made in global variable in a local location{ in function} then it will not be changed in the global \n",
    "    global c # we can make changes in local that will be shown in the global then by using the (global) before the variable then making the changes in it. \n",
    "    c = 1444  \n",
    "    print (y)\n",
    "    # life scope "
   ]
  },
  {
   "cell_type": "code",
   "execution_count": 12,
   "id": "f1987678-cf85-432e-aea6-fb10f34abd8c",
   "metadata": {},
   "outputs": [
    {
     "name": "stdout",
     "output_type": "stream",
     "text": [
      "Mehul 10\n",
      "11\n"
     ]
    },
    {
     "ename": "NameError",
     "evalue": "name 'x' is not defined",
     "output_type": "error",
     "traceback": [
      "\u001b[1;31m---------------------------------------------------------------------------\u001b[0m",
      "\u001b[1;31mNameError\u001b[0m                                 Traceback (most recent call last)",
      "Cell \u001b[1;32mIn[12], line 3\u001b[0m\n\u001b[0;32m      1\u001b[0m func()\n\u001b[0;32m      2\u001b[0m \u001b[38;5;28mprint\u001b[39m(y)\n\u001b[1;32m----> 3\u001b[0m \u001b[38;5;28mprint\u001b[39m(x)\n",
      "\u001b[1;31mNameError\u001b[0m: name 'x' is not defined"
     ]
    }
   ],
   "source": [
    "func()\n",
    "print(y)\n",
    "print(x)"
   ]
  },
  {
   "cell_type": "code",
   "execution_count": 13,
   "id": "fa47ade7-8fec-4fb2-a059-b70268784ae2",
   "metadata": {},
   "outputs": [],
   "source": [
    "# type hint: (z:int) in this we use int only to remember that we have to put int value in it nothing else \n",
    "def funcs(z:int):\n",
    "    print(\"hey\", z)\n",
    "\n"
   ]
  },
  {
   "cell_type": "code",
   "execution_count": 15,
   "id": "fc4ab885-a34f-4987-a741-5c59a667a32e",
   "metadata": {},
   "outputs": [
    {
     "name": "stdout",
     "output_type": "stream",
     "text": [
      "hey 20\n"
     ]
    }
   ],
   "source": [
    "funcs(20)"
   ]
  },
  {
   "cell_type": "code",
   "execution_count": 17,
   "id": "eed71333-a9f1-4aab-a14a-755341f009f0",
   "metadata": {},
   "outputs": [],
   "source": [
    "def func1(z:int, y:str): # parameters\n",
    "    print(\"hey\",y, z)"
   ]
  },
  {
   "cell_type": "code",
   "execution_count": 19,
   "id": "ce60cb6f-63aa-4c31-8c5b-684bab65d372",
   "metadata": {},
   "outputs": [
    {
     "name": "stdout",
     "output_type": "stream",
     "text": [
      "hey mehul 20\n"
     ]
    }
   ],
   "source": [
    "func1(20, \"mehul\")"
   ]
  },
  {
   "cell_type": "code",
   "execution_count": 1,
   "id": "34c6fd26-7a74-497b-802a-5684efa2df7e",
   "metadata": {},
   "outputs": [],
   "source": [
    "# args => variable length argument\n",
    "def func(*a):\n",
    "    print(a)"
   ]
  },
  {
   "cell_type": "code",
   "execution_count": 2,
   "id": "9b17a5c1-06b6-4365-b03a-ee269960e2c8",
   "metadata": {},
   "outputs": [
    {
     "name": "stdout",
     "output_type": "stream",
     "text": [
      "(10, 20, 30)\n"
     ]
    }
   ],
   "source": [
    "func(10,20,30)"
   ]
  },
  {
   "cell_type": "code",
   "execution_count": 4,
   "id": "c0b85447-a0bb-42d6-b23a-9e7e1d57acbc",
   "metadata": {},
   "outputs": [],
   "source": [
    "# kwargs => keyword variable length argument\n",
    "def func(**a):\n",
    "  print(a)\n"
   ]
  },
  {
   "cell_type": "code",
   "execution_count": 7,
   "id": "a05bcf2b-3486-448a-b9f3-a92dcba43b7c",
   "metadata": {},
   "outputs": [
    {
     "name": "stdout",
     "output_type": "stream",
     "text": [
      "{'userid': 10, 'salary': 10000}\n"
     ]
    }
   ],
   "source": [
    "func(userid=10, salary=10000)"
   ]
  },
  {
   "cell_type": "code",
   "execution_count": 8,
   "id": "5730c560-8653-4742-8d14-5e90bb246798",
   "metadata": {},
   "outputs": [
    {
     "name": "stdout",
     "output_type": "stream",
     "text": [
      "<function func at 0x0000021529E55800> <function func at 0x0000021529E55800>\n",
      "hey\n"
     ]
    }
   ],
   "source": [
    "def func():\n",
    "    print(\"hey\")\n",
    "\n",
    "a=func\n",
    "print(func,a)\n",
    "a()"
   ]
  },
  {
   "cell_type": "code",
   "execution_count": 9,
   "id": "4fd94dd6-e62f-44fa-92f8-cbbcee2c2e58",
   "metadata": {},
   "outputs": [
    {
     "name": "stdout",
     "output_type": "stream",
     "text": [
      "this is regex function <function test at 0x0000021529E554E0>\n"
     ]
    }
   ],
   "source": [
    "# high orer function\n",
    "def test():\n",
    "    print(\"this is test function\")\n",
    "def regex(x):\n",
    "    print(\"this is regex function\",x)\n",
    "\n",
    "regex(test)"
   ]
  },
  {
   "cell_type": "code",
   "execution_count": 10,
   "id": "5ff1fb8c-5fbf-406b-ac07-74421ee5bc09",
   "metadata": {},
   "outputs": [
    {
     "data": {
      "text/plain": [
       "'abc'"
      ]
     },
     "execution_count": 10,
     "metadata": {},
     "output_type": "execute_result"
    }
   ],
   "source": [
    "# lambda function\n",
    "# annymous=> oneline function\n",
    "u1 = lambda x:'abc'\n",
    "u1(19)"
   ]
  },
  {
   "cell_type": "code",
   "execution_count": 12,
   "id": "2259fc2c-5905-49b4-bb70-581c4eaa1735",
   "metadata": {},
   "outputs": [
    {
     "name": "stdout",
     "output_type": "stream",
     "text": [
      "inside  kumawat\n"
     ]
    }
   ],
   "source": [
    "def func(x):\n",
    "    print(\"inside =>  \", x.split()[-1])\n",
    "\n",
    "func(\"hey mehul kumawat\")"
   ]
  },
  {
   "cell_type": "code",
   "execution_count": 14,
   "id": "6310259f-9dac-4b79-b78c-6b08e4cc2d50",
   "metadata": {},
   "outputs": [
    {
     "data": {
      "text/plain": [
       "'kumawat'"
      ]
     },
     "execution_count": 14,
     "metadata": {},
     "output_type": "execute_result"
    }
   ],
   "source": [
    "# or\n",
    "u2 = lambda x: x.split()[-1]\n",
    "u2(\"hey mehul kumawat\")"
   ]
  },
  {
   "cell_type": "code",
   "execution_count": 17,
   "id": "c3d31557-b569-4eaa-b90e-cb4368327f88",
   "metadata": {},
   "outputs": [
    {
     "name": "stdout",
     "output_type": "stream",
     "text": [
      "user mehul here hey\n"
     ]
    }
   ],
   "source": [
    "mylist=\"hey mehul here user\".split(\" \")\n",
    "mylist[-1], mylist[0] = mylist[0], mylist[-1]\n",
    "x = \" \".join(mylist)\n",
    "print(x)"
   ]
  },
  {
   "cell_type": "code",
   "execution_count": 18,
   "id": "a04270d8-818d-4d17-8b46-a990841f88c0",
   "metadata": {},
   "outputs": [],
   "source": [
    "def func(a):\n",
    "    return a+5"
   ]
  },
  {
   "cell_type": "code",
   "execution_count": 19,
   "id": "38ca996b-d925-4b69-aeca-2f9ca73725ca",
   "metadata": {},
   "outputs": [
    {
     "name": "stdout",
     "output_type": "stream",
     "text": [
      "25\n"
     ]
    }
   ],
   "source": [
    "out = func(20)\n",
    "print(out)"
   ]
  },
  {
   "cell_type": "code",
   "execution_count": 21,
   "id": "9d86bf31-d46a-4ffc-acb9-00952c46a8ef",
   "metadata": {},
   "outputs": [
    {
     "name": "stdout",
     "output_type": "stream",
     "text": [
      "15\n",
      "72\n",
      "39\n",
      "59\n"
     ]
    }
   ],
   "source": [
    "mylist=[10,67,34,54,23,122]\n",
    "x = map(func, mylist)\n",
    "print(next(x))\n",
    "print(next(x))\n",
    "print(next(x))\n",
    "print(next(x))"
   ]
  },
  {
   "cell_type": "code",
   "execution_count": 23,
   "id": "f94b7153-0cdc-43fd-bf20-79c630fe6752",
   "metadata": {},
   "outputs": [
    {
     "name": "stdout",
     "output_type": "stream",
     "text": [
      "15\n",
      "72\n",
      "39\n",
      "59\n"
     ]
    }
   ],
   "source": [
    "# or\n",
    "mylist=[10,67,34,54,23,122]\n",
    "x = map( lambda a: a+5 , mylist)\n",
    "print(next(x))\n",
    "print(next(x))\n",
    "print(next(x))\n",
    "print(next(x))"
   ]
  },
  {
   "cell_type": "code",
   "execution_count": 25,
   "id": "ee268e47-262f-4c49-a087-c71a24cb8b67",
   "metadata": {},
   "outputs": [
    {
     "name": "stdout",
     "output_type": "stream",
     "text": [
      "[True, False, True, True, False, True]\n"
     ]
    }
   ],
   "source": [
    "mylist=[10,67,34,54,23,122]\n",
    "x = list(map( lambda a: a%2==0 , mylist))\n",
    "print(x)\n"
   ]
  },
  {
   "cell_type": "code",
   "execution_count": 26,
   "id": "3dcd471f-7eff-41c8-8876-aa231f2703df",
   "metadata": {},
   "outputs": [
    {
     "name": "stdout",
     "output_type": "stream",
     "text": [
      "[10, 34, 54, 122]\n"
     ]
    }
   ],
   "source": [
    "mylist=[10,67,34,54,23,122]\n",
    "x = list(filter( lambda a: a%2==0 , mylist))\n",
    "print(x)\n"
   ]
  },
  {
   "cell_type": "code",
   "execution_count": 35,
   "id": "4da8fa09-7875-42ef-89d0-242b5accd9b5",
   "metadata": {},
   "outputs": [
    {
     "name": "stdout",
     "output_type": "stream",
     "text": [
      "{10: 40, 20: 50, 300: 60}\n"
     ]
    }
   ],
   "source": [
    "# Q1\n",
    "# l1=[10,20,300]\n",
    "# l2=[40,50,60]\n",
    "# {10:40,  20:50,  300:60}\n",
    "# note using zip and without zip\n",
    "\n",
    "l1=[10,20,300]\n",
    "l2=[40,50,60]\n",
    "mydic={}\n",
    "for i in range(0,3):\n",
    "   mydic[l1[i]] = l2[i]\n",
    "print(mydic)"
   ]
  },
  {
   "cell_type": "code",
   "execution_count": 36,
   "id": "df2d3d7c-ef16-4d10-bb75-8d14acf51615",
   "metadata": {},
   "outputs": [
    {
     "name": "stdin",
     "output_type": "stream",
     "text": [
      "Enter a valur 35\n"
     ]
    },
    {
     "name": "stdout",
     "output_type": "stream",
     "text": [
      "mehul\n",
      "keshav\n"
     ]
    }
   ],
   "source": [
    "\n",
    "# Q2 {name: marks .. . . . .  ======>} multiple elements\n",
    "# now take a input from the user for score variable\n",
    "# - print the key who have more value then the score variable\n",
    "\n",
    "mydic= {\"mehul\" : 40, \"aman\": 34, \"keshav\": 77}\n",
    "score = int(input(\"Enter a valur\"))\n",
    "\n",
    "for i, j in mydic.items():\n",
    "    if score<j:\n",
    "        print(i)"
   ]
  },
  {
   "cell_type": "code",
   "execution_count": 37,
   "id": "dc9f57d4-1791-4c8e-a2c1-3c4853002d37",
   "metadata": {},
   "outputs": [],
   "source": [
    "# Q3 {10:19,  11:20,  13:NONE}\n",
    "# delete the key-value pair where the value is none\n",
    "\n"
   ]
  },
  {
   "cell_type": "code",
   "execution_count": 38,
   "id": "f1a881a3-a151-4984-82c5-bedd1cd4785c",
   "metadata": {},
   "outputs": [
    {
     "name": "stdout",
     "output_type": "stream",
     "text": [
      "{1: 1, 2: 4, 3: 9, 4: 16, 5: 25}\n"
     ]
    }
   ],
   "source": [
    "# Q4:   {\"x\":5, \"y\":7, \"z\":10}\n",
    "# print new dictionary as square of each key {x:25, y:49,  z:100}\n",
    "\n",
    "mydic={}\n",
    "for i in range (1,6):\n",
    "    mydic[i] = i**2\n",
    "print(mydic)    "
   ]
  },
  {
   "cell_type": "code",
   "execution_count": 40,
   "id": "184f021b-4761-4b87-a86a-206053cd5d7f",
   "metadata": {},
   "outputs": [
    {
     "name": "stdout",
     "output_type": "stream",
     "text": [
      "{1: 1, 2: 8, 3: 27, 4: 64, 5: 125}\n"
     ]
    }
   ],
   "source": [
    "# Q5\n",
    "# create a dictionary as cube of number from 1 to 5\n",
    "# {1:1, 2:8, 3:27, 4:64, 5:125}\n",
    "# Note use only thing we have learnt\n",
    "\n",
    "mydic={}\n",
    "for i in range (1,6):\n",
    "    mydic[i] = i**3\n",
    "print(mydic)  "
   ]
  },
  {
   "cell_type": "code",
   "execution_count": 44,
   "id": "6745e0de-feb5-4207-a7bf-22aa52371087",
   "metadata": {},
   "outputs": [
    {
     "name": "stdout",
     "output_type": "stream",
     "text": [
      "{'avg': 7.3, 'max': 10}\n"
     ]
    }
   ],
   "source": [
    "# Q6 {\"x\":5, \"y\":7, \"z\":10}\n",
    "# get the ans in new dictionary {\"average\":7.3 ,   \"max\":10}\n",
    "\n",
    "mydic={\"x\":5, \"y\":7, \"z\":10}\n",
    "result={}\n",
    "\n",
    "result[\"avg\"] =round( sum(mydic.values())/len(mydic),1)\n",
    "result[\"max\"]= max(mydic.values())\n",
    "print(result)"
   ]
  },
  {
   "cell_type": "code",
   "execution_count": 1,
   "id": "cfbc3b1b-fc33-44f3-87a5-d55f65b9ea34",
   "metadata": {},
   "outputs": [],
   "source": [
    "# oops\n",
    "# object oriented programming system\n",
    "# object : instance of class\n",
    "# real time entity => charactertic and behaviour functionality\n",
    "# class is a blueprint for an object\n",
    "# collection of an object"
   ]
  },
  {
   "cell_type": "code",
   "execution_count": 2,
   "id": "ae04cad5-e7f3-47e2-91aa-fbc75f00f949",
   "metadata": {},
   "outputs": [],
   "source": [
    "class BikeDesing:\n",
    "    company = \"Hero\"\n",
    "    model = \"splendor\" "
   ]
  },
  {
   "cell_type": "code",
   "execution_count": 4,
   "id": "173262f9-52e3-4e0c-a3c5-833a938155f6",
   "metadata": {},
   "outputs": [
    {
     "name": "stdout",
     "output_type": "stream",
     "text": [
      "Hero Hero\n"
     ]
    }
   ],
   "source": [
    "# class valriable are the variable that are associated with the class\n",
    "# these valriable can be accesed by class as well as object\n",
    "#if we want to make change in the class varibale then we use class name \n",
    "b1 = BikeDesing()\n",
    "print(b1.company, BikeDesing.company)"
   ]
  },
  {
   "cell_type": "code",
   "execution_count": 5,
   "id": "321c7929-72fa-475b-b105-7ad6a1113ab3",
   "metadata": {},
   "outputs": [
    {
     "name": "stdout",
     "output_type": "stream",
     "text": [
      "after change by object => bajaj Hero\n"
     ]
    }
   ],
   "source": [
    "b1.company = \"bajaj\"\n",
    "print(\"after change by object =>\", b1.company, BikeDesing.company)\n",
    "# change done by the object will only show in the object"
   ]
  },
  {
   "cell_type": "code",
   "execution_count": 10,
   "id": "95e38807-42ac-40d2-890b-81481e407362",
   "metadata": {},
   "outputs": [],
   "source": [
    "# constrotur = is ued to assing memory of a class\n",
    "class BikeDesing:\n",
    "    company = \"Hero\"\n",
    "    def __init__ (self):\n",
    "        print(\"bike ka model\",self)\n",
    "# if the constructor is created by us it is called parametried constructor\n",
    "# if it is automaticaly called the it is called default constructor\n",
    "# self is a variable that store the current object reffence\n"
   ]
  },
  {
   "cell_type": "code",
   "execution_count": 11,
   "id": "2d47bfcc-3667-44c3-aafb-5a27a580f834",
   "metadata": {},
   "outputs": [
    {
     "name": "stdout",
     "output_type": "stream",
     "text": [
      "bike ka model <__main__.BikeDesing object at 0x00000248F84A6090>\n",
      "object ki value <__main__.BikeDesing object at 0x00000248F84A6090>\n"
     ]
    }
   ],
   "source": [
    "b1 = BikeDesing()\n",
    "print(\"object ki value\", b1)"
   ]
  },
  {
   "cell_type": "code",
   "execution_count": 12,
   "id": "b3195606-893e-4985-b50f-5d93ab349ab0",
   "metadata": {},
   "outputs": [
    {
     "name": "stdout",
     "output_type": "stream",
     "text": [
      "bike ka model <__main__.BikeDesing object at 0x00000248F84A7080>\n",
      "object ki value <__main__.BikeDesing object at 0x00000248F84A6090>\n"
     ]
    }
   ],
   "source": [
    "b2 = BikeDesing()\n",
    "print(\"object ki value\", b1)"
   ]
  },
  {
   "cell_type": "code",
   "execution_count": 13,
   "id": "a2307232-4208-4e15-802e-db91e1810c21",
   "metadata": {},
   "outputs": [],
   "source": [
    "# Q can we change the self parameter to any other value\n",
    "# ans => yes class BikeDesing:\n",
    "             # company = \"Hero\"\n",
    "             # def __init__ (a):\n",
    "           #     print(\"bike ka model\",a)"
   ]
  },
  {
   "cell_type": "code",
   "execution_count": 14,
   "id": "ee52d3d4-eae7-4059-8c04-624013cd9d8c",
   "metadata": {},
   "outputs": [],
   "source": [
    "class BikeDesing:\n",
    "    company = \"Hero\"\n",
    "    def __init__ (self, model):\n",
    "        print(\"bike ka model : \", model)"
   ]
  },
  {
   "cell_type": "code",
   "execution_count": 15,
   "id": "a75fbcc5-3ab8-4507-8a38-688018f16dda",
   "metadata": {},
   "outputs": [
    {
     "name": "stdout",
     "output_type": "stream",
     "text": [
      "bike ka model :  abc\n"
     ]
    }
   ],
   "source": [
    "b1 = BikeDesing(\"abc\")"
   ]
  },
  {
   "cell_type": "code",
   "execution_count": 16,
   "id": "7a5233a4-2545-4f75-8fd3-6ba49f992a0b",
   "metadata": {},
   "outputs": [],
   "source": [
    "# if we create a variable with self then it is calles intence variable\n",
    "# object variabel can be called intace variable\n",
    "class BikeDesing:\n",
    "    company = \"Hero\"\n",
    "    def __init__ (self, x):\n",
    "        self.model=x"
   ]
  },
  {
   "cell_type": "code",
   "execution_count": 17,
   "id": "3a3b8854-bb01-4de2-b6f0-af3884395913",
   "metadata": {},
   "outputs": [
    {
     "name": "stdout",
     "output_type": "stream",
     "text": [
      "shine\n"
     ]
    }
   ],
   "source": [
    "b1 = BikeDesing(\"shine\")\n",
    "print(b1.model)"
   ]
  },
  {
   "cell_type": "code",
   "execution_count": 18,
   "id": "abf03d31-156f-4658-8487-67ffb6906045",
   "metadata": {},
   "outputs": [
    {
     "name": "stdout",
     "output_type": "stream",
     "text": [
      "splendor\n"
     ]
    }
   ],
   "source": [
    "b2 = BikeDesing(\"splendor\")\n",
    "print(b2.model)"
   ]
  },
  {
   "cell_type": "code",
   "execution_count": 19,
   "id": "cc9fe9ba-8b8d-4edd-823d-b9f1e9ebbf9c",
   "metadata": {},
   "outputs": [],
   "source": [
    "class BikeDesing:\n",
    "    company = \"Hero\" # class variable\n",
    "    def __init__ (self, x):\n",
    "        self.model=x  #self.model => instance, model => local variable\n",
    "# class can not access object variable and only access class variable"
   ]
  },
  {
   "cell_type": "code",
   "execution_count": 21,
   "id": "f322d4ab-8a6e-4047-8d0f-e679b94f4277",
   "metadata": {},
   "outputs": [
    {
     "name": "stdout",
     "output_type": "stream",
     "text": [
      "splendor Hero\n"
     ]
    }
   ],
   "source": [
    "b2 = BikeDesing(\"splendor\")\n",
    "print(b2.model, b2.company)"
   ]
  },
  {
   "cell_type": "code",
   "execution_count": 22,
   "id": "fedb3511-2865-402b-9def-f9a5781d7121",
   "metadata": {},
   "outputs": [],
   "source": [
    "# a method declead in side a class is class method\n",
    "# a method declead in side a instance is instance method\n"
   ]
  },
  {
   "cell_type": "code",
   "execution_count": 26,
   "id": "0fe2e194-6d64-4277-bc06-838ce5b4a34c",
   "metadata": {},
   "outputs": [],
   "source": [
    "class Student:\n",
    " college=\"regex\"\n",
    "  #class variable\n",
    " def __init__(self,sid, name, email):\n",
    "   self.sid=sid\n",
    "   self.name=name\n",
    "   self.email=email\n",
    " def info(self):\n",
    "   print(\"student details =>\", self.sid, self.name)\n"
   ]
  },
  {
   "cell_type": "code",
   "execution_count": 27,
   "id": "5e0f35a9-29c3-4744-b522-be362475c379",
   "metadata": {},
   "outputs": [
    {
     "name": "stdout",
     "output_type": "stream",
     "text": [
      "student details => 10 tushar\n",
      "student details => 11 shubham\n"
     ]
    }
   ],
   "source": [
    "s1=Student (10, \"tushar\", \"tushar@gmail.com\")\n",
    "s1.info()\n",
    "s2=Student (11, \"shubham\", \"shubham@gmail.com\")\n",
    "s2.info()"
   ]
  },
  {
   "cell_type": "code",
   "execution_count": 28,
   "id": "c9511fd2-afdb-440e-bd13-92cbcb1caf93",
   "metadata": {},
   "outputs": [
    {
     "data": {
      "text/plain": [
       "'yash@gmail.com'"
      ]
     },
     "execution_count": 28,
     "metadata": {},
     "output_type": "execute_result"
    }
   ],
   "source": [
    "# super keyword is used to used function, method from parent class\n",
    "class CollegeAdmission(Student):\n",
    "  def __init__(self, sid, name, email, subject):\n",
    "     self.subject=subject\n",
    "     super().__init__(sid, name, email)\n",
    "\n",
    "c1=CollegeAdmission(19, \"Yash\", \"yash@gmail.com\", \"Science\")\n",
    "c1.email\n",
    "      "
   ]
  },
  {
   "cell_type": "code",
   "execution_count": null,
   "id": "4f77abe2-cca9-49e1-8801-f5b231e55fd9",
   "metadata": {},
   "outputs": [],
   "source": []
  }
 ],
 "metadata": {
  "kernelspec": {
   "display_name": "Python 3 (ipykernel)",
   "language": "python",
   "name": "python3"
  },
  "language_info": {
   "codemirror_mode": {
    "name": "ipython",
    "version": 3
   },
   "file_extension": ".py",
   "mimetype": "text/x-python",
   "name": "python",
   "nbconvert_exporter": "python",
   "pygments_lexer": "ipython3",
   "version": "3.12.7"
  }
 },
 "nbformat": 4,
 "nbformat_minor": 5
}
