{
 "cells": [
  {
   "cell_type": "code",
   "execution_count": null,
   "id": "badcba77-5fed-4162-9288-cfabcd3649bc",
   "metadata": {},
   "outputs": [],
   "source": [
    "class Book:\n",
    "    def __init__(self, bname, author):\n",
    "        self.bname = bname\n",
    "        self.author = author\n",
    "        self.books = {\n",
    "            'mehul': {'math': 0},\n",
    "            'yash': {'math': 0},\n",
    "            'tushar': {'phy': 0},\n",
    "            'keshav': {'phy': 0},\n",
    "            'akshay': {'sci': 0},\n",
    "            'bharat': {'sci': 0}\n",
    "        }\n",
    "        \n",
    "    def deposite(self):\n",
    "        if self.books.get(self.author, {}).get(self.bname) == 0:\n",
    "            self.books[self.author][self.bname] = 1\n",
    "            return \"Book deposited successfully.\"\n",
    "        else:\n",
    "            return \"Book already deposited.\"\n",
    "\n",
    "    def withdraw(self):\n",
    "        if self.books.get(self.author, {}).get(self.bname) == 1:\n",
    "            self.books[self.author][self.bname] = 0\n",
    "            return \"Book withdrawn successfully.\"\n",
    "        else:\n",
    "            return \"Book not deposited, cannot withdraw.\"\n",
    "\n",
    "# Input\n",
    "bname = input(\"Enter your book name: \")\n",
    "author = input(\"Enter author name: \")\n",
    "bk = Book(bname, author)\n",
    "\n",
    "# Action\n",
    "action = input(\"Do you want to deposit or withdraw a book? \").lower()\n",
    "if action == \"deposite\":\n",
    "    print(bk.deposite())\n",
    "elif action == \"withdraw\":\n",
    "    print(bk.withdraw())\n",
    "else:\n",
    "    print(\"Invalid action. Please enter 'deposit' or 'withdraw'.\")\n"
   ]
  },
  {
   "cell_type": "code",
   "execution_count": 5,
   "id": "919cb2ad-61f0-46f8-b595-8e5ce07e5e98",
   "metadata": {},
   "outputs": [
    {
     "name": "stdout",
     "output_type": "stream",
     "text": [
      "Sam\n",
      "5000\n",
      "deposite successful! New balance: 6000\n",
      "withdraw successful! New balance: 4000\n"
     ]
    }
   ],
   "source": [
    "class BankAccount:\n",
    "    def __init__(self, account_holder, balance):\n",
    "        self.__account_holder = account_holder\n",
    "        self.__balance = balance\n",
    "    def get_account_holder(self):\n",
    "        return self.__account_holder\n",
    "    def get_balance(self):\n",
    "        return self.__balance\n",
    "    def deposite(self, amount):\n",
    "        if amount > 0:\n",
    "            self.__balance += amount\n",
    "            return f\"deposite successful! New balance: {self.__balance}\"\n",
    "        else:\n",
    "            return \"Invalid deposite amount!\"\n",
    "\n",
    "    def withdraw(self, amount):\n",
    "        if amount<= self.__balance:\n",
    "            self.__balance -= amount\n",
    "            return f\"withdraw successful! New balance: {self.__balance}\"\n",
    "        else:\n",
    "            return \"Insufficient funds\"\n",
    "account = BankAccount(\"Sam\", 5000)\n",
    "print(account.get_account_holder())\n",
    "print(account.get_balance())\n",
    "print(account.deposite(1000))\n",
    "print(account.withdraw(2000))"
   ]
  },
  {
   "cell_type": "code",
   "execution_count": 10,
   "id": "7f5a62cd-8596-4711-b971-464f9884a148",
   "metadata": {},
   "outputs": [],
   "source": [
    "class Student:\n",
    "    def __init__(self, name, grade):\n",
    "       self.name = name # Public attribute\n",
    "       self._grade = grade # Private attribute\n",
    "# Getter for grade\n",
    "    def get_grade(self):\n",
    "        return self._grade\n",
    "# Setter for grade (with validation)|\n",
    "    def set_grade(self, new_grade):\n",
    "       if 0 <= new_grade <= 100:\n",
    "         self._grade = new_grade\n",
    "         return \"Grade updated successfully!\"\n",
    "       else:\n",
    "         return \"Invalid grade! Must be between 0 and 100.\"\n",
    "# Using the class\n",
    "student=Student(\"Rohit\", 85)\n",
    "# print(student.name)\n",
    "# print(student.get_grade())\n",
    "# print(student.set_grade(90))"
   ]
  }
 ],
 "metadata": {
  "kernelspec": {
   "display_name": "Python 3 (ipykernel)",
   "language": "python",
   "name": "python3"
  },
  "language_info": {
   "codemirror_mode": {
    "name": "ipython",
    "version": 3
   },
   "file_extension": ".py",
   "mimetype": "text/x-python",
   "name": "python",
   "nbconvert_exporter": "python",
   "pygments_lexer": "ipython3",
   "version": "3.12.7"
  }
 },
 "nbformat": 4,
 "nbformat_minor": 5
}
