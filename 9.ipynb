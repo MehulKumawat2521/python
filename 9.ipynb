{
 "cells": [
  {
   "cell_type": "code",
   "execution_count": 28,
   "id": "932c2622-5cf2-4075-84e5-7c073574eab8",
   "metadata": {},
   "outputs": [
    {
     "name": "stdout",
     "output_type": "stream",
     "text": [
      "input your name dqrew\n",
      "Enter your balance rew\n"
     ]
    },
    {
     "ename": "ValueError",
     "evalue": "invalid literal for int() with base 10: 'rew'",
     "output_type": "error",
     "traceback": [
      "\u001b[1;31m---------------------------------------------------------------------------\u001b[0m",
      "\u001b[1;31mValueError\u001b[0m                                Traceback (most recent call last)",
      "Cell \u001b[1;32mIn[28], line 17\u001b[0m\n\u001b[0;32m     15\u001b[0m         \u001b[38;5;28;01mreturn\u001b[39;00m  \u001b[38;5;28mself\u001b[39m\u001b[38;5;241m.\u001b[39mnum2\n\u001b[0;32m     16\u001b[0m x\u001b[38;5;241m=\u001b[39m \u001b[38;5;28minput\u001b[39m(\u001b[38;5;124m\"\u001b[39m\u001b[38;5;124minput your name\u001b[39m\u001b[38;5;124m\"\u001b[39m)\n\u001b[1;32m---> 17\u001b[0m y\u001b[38;5;241m=\u001b[39m \u001b[38;5;28mint\u001b[39m(\u001b[38;5;28minput\u001b[39m(\u001b[38;5;124m\"\u001b[39m\u001b[38;5;124mEnter your balance\u001b[39m\u001b[38;5;124m\"\u001b[39m))\n\u001b[0;32m     18\u001b[0m acc \u001b[38;5;241m=\u001b[39m bank_acc(x,y)\n\u001b[0;32m     19\u001b[0m a \u001b[38;5;241m=\u001b[39m \u001b[38;5;28minput\u001b[39m(\u001b[38;5;124m\"\u001b[39m\u001b[38;5;124mdo you want to deposite or withdraw or check balance\u001b[39m\u001b[38;5;124m\"\u001b[39m)\n",
      "\u001b[1;31mValueError\u001b[0m: invalid literal for int() with base 10: 'rew'"
     ]
    }
   ],
   "source": [
    "class bank_acc:\n",
    "    def __init__(self,num1,num2):\n",
    "       self.num1=num1\n",
    "       self.num2=num2\n",
    "    def deposite(self,l):\n",
    "       \n",
    "        m= l+self.num2\n",
    "        return m\n",
    "    def withdraw(self,k):\n",
    "\n",
    "        n= self.num2-k\n",
    "        return n\n",
    "    def check_balance(self):\n",
    "    \n",
    "        return  self.num2\n",
    "x= input(\"input your name\")\n",
    "y= int(input(\"Enter your balance\"))\n",
    "acc = bank_acc(x,y)\n",
    "a = input(\"do you want to deposite or withdraw or check balance\")\n",
    "if(a==\"deposite\"):\n",
    "    l = int(input(\"how much do you want to deposite\"))  \n",
    "    acc.deposite(l)\n",
    "elif(a==\"withdraw\"):\n",
    "    k = int(input(\"how much do you want to withdraw\"))\n",
    "    acc.withdraw(k)\n",
    "elif(a==\"balance\"):\n",
    "   print(acc.check_balance)\n",
    "else:\n",
    "  print(\"error\")"
   ]
  },
  {
   "cell_type": "code",
   "execution_count": 25,
   "id": "ff684225-2390-4363-95fe-894c8c0cb5b0",
   "metadata": {},
   "outputs": [
    {
     "name": "stdout",
     "output_type": "stream",
     "text": [
      "Enter your name sam\n",
      "Enter your age 23\n",
      "Enter your marks 56\n"
     ]
    },
    {
     "name": "stdout",
     "output_type": "stream",
     "text": [
      "sam\n",
      "23\n",
      "56\n",
      "None\n",
      "pass\n"
     ]
    }
   ],
   "source": [
    "class student:\n",
    "    def __init__(self,name,age,marks):\n",
    "        self.name=name\n",
    "        self.age=age\n",
    "        self.marks=marks\n",
    "    def details(self):\n",
    "        print(self.name)\n",
    "        print(self.age)\n",
    "        print(self.marks)\n",
    "    def fail(self):\n",
    "        if(marks>=40):\n",
    "            return \"pass\"\n",
    "        else:\n",
    "            return \"fail\"\n",
    "name= input(\"Enter your name\")\n",
    "age = int(input(\"Enter your age\"))\n",
    "marks = int(input(\"Enter your marks\"))\n",
    "stu = student(name,age,marks)\n",
    "print(stu.details())\n",
    "print(stu.fail())"
   ]
  },
  {
   "cell_type": "code",
   "execution_count": 38,
   "id": "83150f6c-f1dc-4f36-bc1b-d09875cd6161",
   "metadata": {},
   "outputs": [
    {
     "name": "stdout",
     "output_type": "stream",
     "text": [
      "Enter your book name math\n",
      "Enter author name mehul\n",
      "Enter do you want to deposite or withdraw a book withdraw\n"
     ]
    },
    {
     "name": "stdout",
     "output_type": "stream",
     "text": [
      "done\n",
      "None\n"
     ]
    },
    {
     "name": "stdout",
     "output_type": "stream",
     "text": [
      "Enter your book name math\n",
      "Enter author name mehul\n",
      "Enter do you want to deposite or withdraw a book withdraw\n"
     ]
    },
    {
     "name": "stdout",
     "output_type": "stream",
     "text": [
      "withdraw can not be done\n",
      "None\n"
     ]
    }
   ],
   "source": [
    "class book:\n",
    "    def __init__(self,bname,author):\n",
    "        self.bname=bname\n",
    "        self.author=author\n",
    "        \n",
    "    def deposite(self):\n",
    "        global mathm\n",
    "        mathm=1\n",
    "        global mathy\n",
    "        mathy=1\n",
    "        global phyt\n",
    "        phyt=1\n",
    "        global phyk\n",
    "        phyk=1\n",
    "        global scia\n",
    "        scia=1\n",
    "        global scib\n",
    "        scib=1\n",
    "        if(self.author == 'mehul' and self.bname == 'math'):\n",
    "            mathm= 1\n",
    "            print(\"done\")\n",
    "        elif(self.author == 'yash' and self.bname == 'math'):\n",
    "            mathy= 1\n",
    "            print(\"done\")\n",
    "        elif(self.author == 'tushar' and self.bname == 'phy'):\n",
    "            phyt= 1\n",
    "            print(\"done\")\n",
    "        elif(self.author == 'keshav' and self.bname == 'phy' ):\n",
    "            phyk = 1\n",
    "            print(\"done\")\n",
    "        elif(self.author == 'akshay' and self.bname == 'sci'):\n",
    "            scia = 1\n",
    "            print(\"done\")\n",
    "        elif(self.author == 'bharat' and self.bname == 'sci'):\n",
    "            scib = 1\n",
    "            print(\"done\")\n",
    "        else:\n",
    "            print(\"error\")\n",
    "    def withdraw(self):\n",
    "        global mathm\n",
    "        global mathy\n",
    "        global phyt\n",
    "        global phyk\n",
    "        global scia\n",
    "        global scib\n",
    "        if (self.author == 'mehul' and mathm ==1):\n",
    "            mathm = 0\n",
    "            print(\"done\")\n",
    "        elif(self.author == 'yash' and mathy ==1):\n",
    "            mathy = 0\n",
    "            print(\"done\")    \n",
    "        elif(self.author == 'tushar' and phyt ==1):\n",
    "            phyt = 0\n",
    "            print(\"done\") \n",
    "        elif(self.author == 'keshav' and phyk ==1):\n",
    "            phyk = 0\n",
    "            print(\"done\")\n",
    "        elif(self.author == 'akshay' and  scia==1):\n",
    "            scia = 0\n",
    "            print(\"done\")\n",
    "        elif(self.author == 'bharat' and  scib==1):\n",
    "            scib = 0\n",
    "            print(\"done\")    \n",
    "        else:\n",
    "            print(\"withdraw can not be done\")\n",
    "\n",
    "bname= input(\"Enter your book name\")\n",
    "author = input(\"Enter author name\")\n",
    "bk = book(bname,author)\n",
    "g= input(\"Enter do you want to deposite or withdraw a book\")\n",
    "if (g==\"deposite\"):\n",
    "    print(bk.deposite())\n",
    "elif(g==\"withdraw\"):\n",
    "    print(bk.withdraw())\n",
    "else:\n",
    "    print(\"Error\")\n",
    "            "
   ]
  }
 ],
 "metadata": {
  "kernelspec": {
   "display_name": "Python 3 (ipykernel)",
   "language": "python",
   "name": "python3"
  },
  "language_info": {
   "codemirror_mode": {
    "name": "ipython",
    "version": 3
   },
   "file_extension": ".py",
   "mimetype": "text/x-python",
   "name": "python",
   "nbconvert_exporter": "python",
   "pygments_lexer": "ipython3",
   "version": "3.12.7"
  }
 },
 "nbformat": 4,
 "nbformat_minor": 5
}
