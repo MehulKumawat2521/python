{
 "cells": [
  {
   "cell_type": "code",
   "execution_count": 6,
   "id": "b23ef89e-4ca0-4d9b-b4df-6df904aa9566",
   "metadata": {},
   "outputs": [
    {
     "name": "stdout",
     "output_type": "stream",
     "text": [
      "sadffdsfhey hey hey\n"
     ]
    }
   ],
   "source": [
    "f=open(\"mehul.txt\",\"r\")\n",
    "x=f.read()\n",
    "f.close\n",
    "print(x)\n"
   ]
  },
  {
   "cell_type": "code",
   "execution_count": 3,
   "id": "c8972730-9b63-4705-90e7-ab4d12bbf7a0",
   "metadata": {},
   "outputs": [
    {
     "data": {
      "text/plain": [
       "<function TextIOWrapper.close()>"
      ]
     },
     "execution_count": 3,
     "metadata": {},
     "output_type": "execute_result"
    }
   ],
   "source": [
    "f=open(\"mehul.txt\",\"w\")\n",
    "f.write(\"sadffdsf\")\n",
    "f.close\n"
   ]
  },
  {
   "cell_type": "code",
   "execution_count": 5,
   "id": "49e0d529-fd19-4c33-bbd3-dfe4453aec03",
   "metadata": {},
   "outputs": [
    {
     "name": "stdout",
     "output_type": "stream",
     "text": [
      "sadffdsf\n"
     ]
    }
   ],
   "source": [
    "f=open(\"mehul.txt\",\"r+\")\n",
    "x=f.read()\n",
    "f.write(\"hey hey hey\")\n",
    "f.close\n",
    "print(x)\n"
   ]
  },
  {
   "cell_type": "code",
   "execution_count": 7,
   "id": "b9fd33d9-d847-4c5f-9b5f-3b11d39a949c",
   "metadata": {},
   "outputs": [
    {
     "name": "stdout",
     "output_type": "stream",
     "text": [
      "\n"
     ]
    }
   ],
   "source": [
    "f=open(\"mehul.txt\",\"w+\")\n",
    "x=f.read()\n",
    "f.write(\"hey hey hey\")\n",
    "f.close\n",
    "print(x)\n"
   ]
  },
  {
   "cell_type": "code",
   "execution_count": 8,
   "id": "1e7a6ced-73da-4aa1-b880-b7084c86af5a",
   "metadata": {},
   "outputs": [
    {
     "name": "stdout",
     "output_type": "stream",
     "text": [
      "hey hey hey\n"
     ]
    }
   ],
   "source": [
    "with open (\"mehul.txt\",\"r+\") as f:\n",
    "    x=f.read()\n",
    "print(x)"
   ]
  },
  {
   "cell_type": "code",
   "execution_count": 9,
   "id": "88834a9c-84aa-402a-8d8b-e1824b829b1a",
   "metadata": {},
   "outputs": [
    {
     "name": "stdout",
     "output_type": "stream",
     "text": [
      "hey mehul kumawat\n",
      "\n",
      "hi\n",
      "\n",
      "hello\n",
      "\n",
      "hiie\n"
     ]
    }
   ],
   "source": [
    "with open (\"mehul.txt\",\"r+\") as f:\n",
    "    for line in f:\n",
    "       print(line)\n"
   ]
  },
  {
   "cell_type": "code",
   "execution_count": 14,
   "id": "a15a08fd-af85-4df9-a656-3a1cff471003",
   "metadata": {},
   "outputs": [
    {
     "name": "stdout",
     "output_type": "stream",
     "text": [
      "hey mehul kumawat\n",
      "\n",
      "hi\n",
      "\n",
      "hello\n",
      "\n"
     ]
    }
   ],
   "source": [
    "with open (\"mehul.txt\",\"r+\") as f:\n",
    "    print(f.readline())\n",
    "    print(f.readline())\n",
    "    print(f.readline())\n",
    "  "
   ]
  },
  {
   "cell_type": "code",
   "execution_count": 15,
   "id": "3e844e32-66e9-4d2b-bbdf-85c8df63d590",
   "metadata": {},
   "outputs": [
    {
     "name": "stdout",
     "output_type": "stream",
     "text": [
      "['hey mehul kumawat\\n', 'hi\\n', 'hello\\n', 'hiie']\n"
     ]
    }
   ],
   "source": [
    "with open (\"mehul.txt\",\"r+\") as f:\n",
    "    print(f.readlines())"
   ]
  },
  {
   "cell_type": "code",
   "execution_count": 16,
   "id": "8a17f5c3-9e9c-456e-b272-a5bdb25c4bfb",
   "metadata": {},
   "outputs": [
    {
     "name": "stdout",
     "output_type": "stream",
     "text": [
      "0\n",
      "w 11\n",
      "\n"
     ]
    }
   ],
   "source": [
    "f=open(\"mehul.txt\",\"w+\")\n",
    "x=f.read()\n",
    "print(f.tell())\n",
    "f.write(\"hey hey hey\")\n",
    "print(\"w\",f.tell())\n",
    "f.close\n",
    "print(x)"
   ]
  },
  {
   "cell_type": "code",
   "execution_count": 17,
   "id": "af446552-511a-4464-970a-d0a83a5dc43a",
   "metadata": {},
   "outputs": [
    {
     "name": "stdout",
     "output_type": "stream",
     "text": [
      "hello\n",
      "Error occured\n"
     ]
    }
   ],
   "source": [
    "try:\n",
    "    print(\"hello\")\n",
    "    num123\n",
    "    print(\"hey\")\n",
    "except:\n",
    "    print(\"Error occured\")"
   ]
  },
  {
   "cell_type": "code",
   "execution_count": 19,
   "id": "fdaba8de-3047-491c-b31f-44d77503f3b9",
   "metadata": {},
   "outputs": [
    {
     "name": "stdout",
     "output_type": "stream",
     "text": [
      "hello\n",
      "Error occured : name 'num123' is not defined\n"
     ]
    }
   ],
   "source": [
    "try:\n",
    "    print(\"hello\")\n",
    "    num123\n",
    "    print(\"hey\")\n",
    "except NameError as x:\n",
    "    print(\"Error occured :\",x)"
   ]
  },
  {
   "cell_type": "code",
   "execution_count": 21,
   "id": "8cc297bc-caf9-450f-9561-f9a48628db3a",
   "metadata": {},
   "outputs": [
    {
     "name": "stdout",
     "output_type": "stream",
     "text": [
      "hello\n",
      "Error occured:  name 'num123' is not defined\n"
     ]
    }
   ],
   "source": [
    "try:\n",
    "    print(\"hello\")\n",
    "    num123\n",
    "    print(\"hey\")\n",
    "except(NameError,TypeError) as x:\n",
    "    print(\"Error occured: \",x)"
   ]
  },
  {
   "cell_type": "code",
   "execution_count": 29,
   "id": "3a7aae9a-48cf-41f7-9a24-5256d8973167",
   "metadata": {},
   "outputs": [
    {
     "name": "stdout",
     "output_type": "stream",
     "text": [
      "hello\n",
      "Error occured:  can only concatenate str (not \"int\") to str\n"
     ]
    }
   ],
   "source": [
    "try:\n",
    "    print(\"hello\")\n",
    "    num = 'abc'\n",
    "    num = num + 10\n",
    "    print(\"hey\")\n",
    "except(NameError,TypeError) as x:\n",
    "    print(\"Error occured: \",x)\n",
    "except Exception as x:\n",
    "    print(\"All Error are handled: \",x)"
   ]
  },
  {
   "cell_type": "code",
   "execution_count": 33,
   "id": "a57905ca-4449-429c-aaba-1b4dcba39fa9",
   "metadata": {},
   "outputs": [
    {
     "name": "stdout",
     "output_type": "stream",
     "text": [
      "hello\n",
      "Divied by zero\n",
      "hey\n"
     ]
    }
   ],
   "source": [
    "try:\n",
    "    print(\"hello\")\n",
    "    try:\n",
    "        num = 10\n",
    "        num = 10/0\n",
    "    except:\n",
    "        print(\"Divied by zero\")\n",
    "    print(\"hey\")\n",
    "except(NameError,TypeError) as x:\n",
    "    print(\"Error occured: \",x)\n",
    "except Exception as x:\n",
    "    print(\"All Error are handled: \",x)"
   ]
  },
  {
   "cell_type": "code",
   "execution_count": 34,
   "id": "67c7a187-5850-409c-bbbf-e978a8368fca",
   "metadata": {},
   "outputs": [
    {
     "name": "stdout",
     "output_type": "stream",
     "text": [
      "hello\n",
      "Divied by zero\n",
      "hey\n",
      "end\n"
     ]
    }
   ],
   "source": [
    "try:\n",
    "    print(\"hello\")\n",
    "    try:\n",
    "        num = 10\n",
    "        num = 10/0\n",
    "    except:\n",
    "        print(\"Divied by zero\")\n",
    "    print(\"hey\")\n",
    "except(NameError,TypeError) as x:\n",
    "    print(\"Error occured: \",x)\n",
    "except Exception as x:\n",
    "    print(\"All Error are handled: \",x)\n",
    "finally:\n",
    "    print(\"end\")"
   ]
  }
 ],
 "metadata": {
  "kernelspec": {
   "display_name": "Python 3 (ipykernel)",
   "language": "python",
   "name": "python3"
  },
  "language_info": {
   "codemirror_mode": {
    "name": "ipython",
    "version": 3
   },
   "file_extension": ".py",
   "mimetype": "text/x-python",
   "name": "python",
   "nbconvert_exporter": "python",
   "pygments_lexer": "ipython3",
   "version": "3.12.7"
  }
 },
 "nbformat": 4,
 "nbformat_minor": 5
}
